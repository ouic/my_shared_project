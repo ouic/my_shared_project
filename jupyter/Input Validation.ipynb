{
 "cells": [
  {
   "cell_type": "code",
   "execution_count": 1,
   "metadata": {},
   "outputs": [
    {
     "name": "stdout",
     "output_type": "stream",
     "text": [
      "Enter your age:\n",
      "five\n",
      "Please use numeric digits.\n",
      "Enter your age:\n",
      "-2\n",
      "Please enter a positive number.\n",
      "Enter your age:\n",
      "30\n",
      "Your age is 30.\n"
     ]
    }
   ],
   "source": [
    "# Enter your age\n",
    "while True:\n",
    "    print('Enter your age:')\n",
    "    age = input()\n",
    "    try:\n",
    "        age = int(age)\n",
    "    except:\n",
    "        print('Please use numeric digits.')\n",
    "        continue\n",
    "    if age < 1:\n",
    "        print('Please enter a positive number.')\n",
    "        continue\n",
    "    break\n",
    "\n",
    "print(f'Your age is {age}.')"
   ]
  },
  {
   "cell_type": "code",
   "execution_count": 2,
   "metadata": {},
   "outputs": [
    {
     "name": "stdout",
     "output_type": "stream",
     "text": [
      "Collecting pyinputplus\n",
      "  Using cached PyInputPlus-0.2.12.tar.gz (20 kB)\n",
      "  Installing build dependencies: started\n",
      "  Installing build dependencies: finished with status 'done'\n",
      "  Getting requirements to build wheel: started\n",
      "  Getting requirements to build wheel: finished with status 'done'\n",
      "    Preparing wheel metadata: started\n",
      "    Preparing wheel metadata: finished with status 'done'\n",
      "Collecting stdiomask>=0.0.3\n",
      "  Using cached stdiomask-0.0.6.tar.gz (3.6 kB)\n",
      "  Installing build dependencies: started\n",
      "  Installing build dependencies: finished with status 'done'\n",
      "  Getting requirements to build wheel: started\n",
      "  Getting requirements to build wheel: finished with status 'done'\n",
      "    Preparing wheel metadata: started\n",
      "    Preparing wheel metadata: finished with status 'done'\n",
      "Collecting pysimplevalidate>=0.2.7\n",
      "  Using cached PySimpleValidate-0.2.12.tar.gz (22 kB)\n",
      "  Installing build dependencies: started\n",
      "  Installing build dependencies: finished with status 'done'\n",
      "  Getting requirements to build wheel: started\n",
      "  Getting requirements to build wheel: finished with status 'done'\n",
      "    Preparing wheel metadata: started\n",
      "    Preparing wheel metadata: finished with status 'done'\n",
      "Building wheels for collected packages: pyinputplus, stdiomask, pysimplevalidate\n",
      "  Building wheel for pyinputplus (PEP 517): started\n",
      "  Building wheel for pyinputplus (PEP 517): finished with status 'done'\n",
      "  Created wheel for pyinputplus: filename=PyInputPlus-0.2.12-py3-none-any.whl size=11315 sha256=0d5e40cfffd6f73e09a3de4ba99d731e1cbd3b85c391bd36fd15af3ed390ff60\n",
      "  Stored in directory: c:\\users\\ouic\\appdata\\local\\pip\\cache\\wheels\\b9\\b4\\e7\\825446929f44b25d05f4df52bc4f7d211e5dec4c547126a098\n",
      "  Building wheel for stdiomask (PEP 517): started\n",
      "  Building wheel for stdiomask (PEP 517): finished with status 'done'\n",
      "  Created wheel for stdiomask: filename=stdiomask-0.0.6-py3-none-any.whl size=3320 sha256=136ff08d6ec8546bdb95383d29286428cefe624c7f87c884388d05cffb31e352\n",
      "  Stored in directory: c:\\users\\ouic\\appdata\\local\\pip\\cache\\wheels\\c1\\e9\\4e\\bcdfc282cffe91bb88e951ad9a05fb166ed6460bbe3c6dc02b\n",
      "  Building wheel for pysimplevalidate (PEP 517): started\n",
      "  Building wheel for pysimplevalidate (PEP 517): finished with status 'done'\n",
      "  Created wheel for pysimplevalidate: filename=PySimpleValidate-0.2.12-py3-none-any.whl size=16192 sha256=8bdeee417540edc1eeff2d34360e65584232b00d9f96537fc304a18175ae1f42\n",
      "  Stored in directory: c:\\users\\ouic\\appdata\\local\\pip\\cache\\wheels\\bd\\d4\\a5\\a003719238ab12962e430310093e567ab7d29bc3bfe062b14c\n",
      "Successfully built pyinputplus stdiomask pysimplevalidate\n",
      "Installing collected packages: stdiomask, pysimplevalidate, pyinputplus\n",
      "Successfully installed pyinputplus-0.2.12 pysimplevalidate-0.2.12 stdiomask-0.0.6\n",
      "Note: you may need to restart the kernel to use updated packages.\n"
     ]
    }
   ],
   "source": [
    "pip install --user pyinputplus"
   ]
  },
  {
   "cell_type": "code",
   "execution_count": 1,
   "metadata": {},
   "outputs": [],
   "source": [
    "import pyinputplus"
   ]
  },
  {
   "cell_type": "code",
   "execution_count": 7,
   "metadata": {},
   "outputs": [
    {
     "name": "stdout",
     "output_type": "stream",
     "text": [
      "Enter a number: 42\n"
     ]
    }
   ],
   "source": [
    "import pyinputplus as pyip\n",
    "response = pyip.inputInt(prompt='Enter a number: ')"
   ]
  },
  {
   "cell_type": "code",
   "execution_count": 8,
   "metadata": {},
   "outputs": [
    {
     "name": "stdout",
     "output_type": "stream",
     "text": [
      "Help on function inputChoice in module pyinputplus:\n",
      "\n",
      "inputChoice(choices, prompt='_default', default=None, blank=False, timeout=None, limit=None, strip=None, allowRegexes=None, blockRegexes=None, applyFunc=None, postValidateApplyFunc=None, caseSensitive=False)\n",
      "    Prompts the user to enter one of the provided choices.\n",
      "    Returns the selected choice as a string.\n",
      "    \n",
      "    Run ``help(pyinputplus.parameters)`` for an explanation of the common parameters.\n",
      "    \n",
      "    * ``choices`` (Sequence): A sequence of strings, one of which the user must enter.\n",
      "    * ``aseSensitive`` (bool): If ``True``, the user must enter a choice that matches the case of the string in choices. Defaults to False.\n",
      "    \n",
      "    >>> import pyinputplus as pyip\n",
      "    >>> response = pyip.inputChoice(['dog', 'cat'])\n",
      "    Please select one of: dog, cat\n",
      "    dog\n",
      "    >>> response\n",
      "    'dog'\n",
      "    >>> response = pyip.inputChoice(['dog', 'cat'])\n",
      "    Please select one of: dog, cat\n",
      "    CAT\n",
      "    >>> response\n",
      "    'cat'\n",
      "    >>> response = pyip.inputChoice(['dog', 'cat'])\n",
      "    Please select one of: dog, cat\n",
      "    mouse\n",
      "    'mouse' is not a valid choice.\n",
      "    Please select one of: dog, cat\n",
      "    Dog\n",
      "    >>> response\n",
      "    'dog'\n",
      "\n"
     ]
    }
   ],
   "source": [
    "help(pyip.inputChoice)"
   ]
  },
  {
   "cell_type": "code",
   "execution_count": 9,
   "metadata": {},
   "outputs": [
    {
     "name": "stdout",
     "output_type": "stream",
     "text": [
      "Enter num: 3\n",
      "Number must be at minimum 4.\n",
      "Enter num: 5\n"
     ]
    }
   ],
   "source": [
    "import pyinputplus as pyip\n",
    "response = pyip.inputNum('Enter num: ', min=4)"
   ]
  },
  {
   "cell_type": "code",
   "execution_count": 10,
   "metadata": {},
   "outputs": [
    {
     "name": "stdout",
     "output_type": "stream",
     "text": [
      "Enter num: 4\n",
      "Number must be greater than 4.\n",
      "Enter num: 5\n"
     ]
    }
   ],
   "source": [
    "response = pyip.inputNum('Enter num: ', greaterThan=4)"
   ]
  },
  {
   "cell_type": "code",
   "execution_count": 12,
   "metadata": {},
   "outputs": [
    {
     "name": "stdout",
     "output_type": "stream",
     "text": [
      "Enter num: 3\n",
      "Number must be at minimum 4.\n",
      "Enter num: 7\n",
      "Number must be less than 6.\n",
      "Enter num: 6\n",
      "Number must be less than 6.\n",
      "Enter num: 5\n"
     ]
    }
   ],
   "source": [
    "response = pyip.inputNum('Enter num: ', min=4, lessThan=6)"
   ]
  },
  {
   "cell_type": "code",
   "execution_count": 13,
   "metadata": {},
   "outputs": [
    {
     "name": "stdout",
     "output_type": "stream",
     "text": [
      "Enter num: \n",
      "Blank values are not allowed.\n",
      "Enter num: 42\n"
     ]
    }
   ],
   "source": [
    "# blank Keyword Argument not allowed\n",
    "import pyinputplus as pyip\n",
    "response = pyip.inputNum('Enter num: ')"
   ]
  },
  {
   "cell_type": "code",
   "execution_count": 14,
   "metadata": {},
   "outputs": [
    {
     "name": "stdout",
     "output_type": "stream",
     "text": [
      "\n"
     ]
    }
   ],
   "source": [
    "# blank Keyword Argument allowed\n",
    "import pyinputplus as pyip\n",
    "response = pyip.inputNum(blank=True)"
   ]
  },
  {
   "cell_type": "code",
   "execution_count": null,
   "metadata": {},
   "outputs": [],
   "source": [
    "# stop asking the user for input after a certain number of tries\n",
    "# If the user fails to enter valid input, these keyword arguments will cause the function to raise a RetryLimitException\n",
    "import pyinputplus as pyip\n",
    "response = pyip.inputNum(limit=3)"
   ]
  },
  {
   "cell_type": "code",
   "execution_count": null,
   "metadata": {},
   "outputs": [],
   "source": [
    "# Timeout after x seconds of waiting\n",
    "# If the user fails to enter valid input, these keyword arguments will cause the function to raise a TimeoutException\n",
    "import pyinputplus as pyip\n",
    "response = pyip.inputNum(timeout=10)"
   ]
  },
  {
   "cell_type": "code",
   "execution_count": 17,
   "metadata": {},
   "outputs": [
    {
     "name": "stdout",
     "output_type": "stream",
     "text": [
      "hello\n",
      "'hello' is not a number.\n",
      "world\n",
      "'world' is not a number.\n"
     ]
    }
   ],
   "source": [
    "# default keyword argument\n",
    "response = pyip.inputNum(limit=2, default='N/A')"
   ]
  },
  {
   "cell_type": "code",
   "execution_count": 20,
   "metadata": {},
   "outputs": [
    {
     "name": "stdout",
     "output_type": "stream",
     "text": [
      "N/A\n"
     ]
    }
   ],
   "source": [
    "print(response)"
   ]
  },
  {
   "cell_type": "code",
   "execution_count": 21,
   "metadata": {},
   "outputs": [
    {
     "name": "stdout",
     "output_type": "stream",
     "text": [
      "XIV\n"
     ]
    }
   ],
   "source": [
    "# allowRegexes - exemple : chiffres romains\n",
    "import pyinputplus as pyip\n",
    "response = pyip.inputNum(allowRegexes=[r'(I|V|X|L|C|D|M)+', r'zero'])"
   ]
  },
  {
   "cell_type": "code",
   "execution_count": 22,
   "metadata": {},
   "outputs": [
    {
     "name": "stdout",
     "output_type": "stream",
     "text": [
      "42\n",
      "This response is invalid.\n",
      "40\n",
      "This response is invalid.\n",
      "41\n"
     ]
    }
   ],
   "source": [
    "# interdire nombre pairs\n",
    "import pyinputplus as pyip\n",
    "response = pyip.inputNum(blockRegexes=[r'[02468]$'])"
   ]
  },
  {
   "cell_type": "code",
   "execution_count": 23,
   "metadata": {},
   "outputs": [
    {
     "name": "stdout",
     "output_type": "stream",
     "text": [
      "cat\n",
      "This response is invalid.\n",
      "catastrophe\n",
      "This response is invalid.\n",
      "category\n"
     ]
    }
   ],
   "source": [
    "# If you specify both an allowRegexes and blockRegexes argument,\n",
    "# the allow list overrides the block list.\n",
    "# Here, we allow 'caterpillar' and 'category'\n",
    "# but blocks anything else that has the word 'cat' in it\n",
    "import pyinputplus as pyip\n",
    "response = pyip.inputStr(allowRegexes=[r'caterpillar', 'category'], blockRegexes=[r'cat'])"
   ]
  },
  {
   "cell_type": "code",
   "execution_count": 35,
   "metadata": {},
   "outputs": [
    {
     "name": "stdout",
     "output_type": "stream",
     "text": [
      "123\n",
      "L'addition des chiffres doit être égale à 10, pas à 6.\n",
      "55\n"
     ]
    }
   ],
   "source": [
    "# L'addition des chiffres doit être égale à 10\n",
    "import pyinputplus as pyip\n",
    "def addsUpToTen(numbers):\n",
    "    numbersList = list(numbers)\n",
    "    for i, digit in enumerate(numbersList):\n",
    "        numbersList[i] = int(digit)\n",
    "    if sum(numbersList) != 10:\n",
    "        raise Exception('L\\'addition des chiffres doit être égale à 10, pas à %s.' %(sum(numbersList)))\n",
    "        return int(numbers) # Return an int form of numbers.\n",
    "response = pyip.inputCustom(addsUpToTen) # No parentheses after"
   ]
  },
  {
   "cell_type": "code",
   "execution_count": 45,
   "metadata": {},
   "outputs": [
    {
     "name": "stdout",
     "output_type": "stream",
     "text": [
      "Savez-vous comment occuper un idiot pendant des heures?\n",
      "oui\n",
      "Savez-vous comment occuper un idiot pendant des heures?\n",
      "bien sûr\n",
      "'bien sûr' is not a valid oui/non response.\n",
      "Savez-vous comment occuper un idiot pendant des heures?\n",
      "non\n",
      "Merci. Bonne journée.\n"
     ]
    }
   ],
   "source": [
    "# How to Keep an Idiot Busy for Hours\n",
    "# 1 - Ask the user if they’d like to know how to keep an idiot busy for hours.\n",
    "# 2 - If the user answers no, quit.\n",
    "# 3 - If the user answers yes, go to Step 1.\n",
    "import pyinputplus as pyip\n",
    "while True:\n",
    "    prompt = 'Savez-vous comment occuper un idiot pendant des heures?\\n'\n",
    "    response = pyip.inputYesNo(prompt, yesVal='oui', noVal='non')\n",
    "    if response == 'non':\n",
    "        break\n",
    "print('Merci. Bonne journée.')"
   ]
  },
  {
   "cell_type": "code",
   "execution_count": null,
   "metadata": {},
   "outputs": [],
   "source": []
  }
 ],
 "metadata": {
  "kernelspec": {
   "display_name": "Python 3",
   "language": "python",
   "name": "python3"
  },
  "language_info": {
   "codemirror_mode": {
    "name": "ipython",
    "version": 3
   },
   "file_extension": ".py",
   "mimetype": "text/x-python",
   "name": "python",
   "nbconvert_exporter": "python",
   "pygments_lexer": "ipython3",
   "version": "3.8.5"
  }
 },
 "nbformat": 4,
 "nbformat_minor": 4
}
