{
 "cells": [
  {
   "cell_type": "code",
   "execution_count": 14,
   "metadata": {},
   "outputs": [
    {
     "name": "stdout",
     "output_type": "stream",
     "text": [
      "êtes-vous d'accord ?\n",
      "yes\n",
      "D'accord.\n"
     ]
    }
   ],
   "source": [
    "import re\n",
    "s = input(\"êtes-vous d'accord ?\\n\")\n",
    "\n",
    "if re.search(\"^o(ui)?$\", s, re.IGNORECASE) or re.search(\"^y(es)?$\", s, re.IGNORECASE):\n",
    "    print(\"D'accord.\")\n",
    "elif re.search(\"^n(on)?$\", s, re.IGNORECASE) or re.search(\"^n(o)?$\", s, re.IGNORECASE):\n",
    "    print(\"Pas d'accord.\")\n",
    "else :\n",
    "    print(\"Je n'ai pas compris.\")"
   ]
  },
  {
   "cell_type": "code",
   "execution_count": null,
   "metadata": {},
   "outputs": [],
   "source": []
  }
 ],
 "metadata": {
  "kernelspec": {
   "display_name": "Python 3",
   "language": "python",
   "name": "python3"
  },
  "language_info": {
   "codemirror_mode": {
    "name": "ipython",
    "version": 3
   },
   "file_extension": ".py",
   "mimetype": "text/x-python",
   "name": "python",
   "nbconvert_exporter": "python",
   "pygments_lexer": "ipython3",
   "version": "3.8.5"
  }
 },
 "nbformat": 4,
 "nbformat_minor": 4
}
