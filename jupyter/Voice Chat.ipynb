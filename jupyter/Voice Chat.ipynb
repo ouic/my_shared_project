{
 "cells": [
  {
   "cell_type": "code",
   "execution_count": 13,
   "metadata": {},
   "outputs": [
    {
     "name": "stdout",
     "output_type": "stream",
     "text": [
      "écrivez quelque chose\n",
      "comment\n",
      "???\n"
     ]
    }
   ],
   "source": [
    "words = input(\"écrivez quelque chose\\n\").lower()\n",
    "\n",
    "if \"bonjour\" in words:\n",
    "    print (\"Bonjour à toi aussi !\")\n",
    "elif \"comment\" in words:\n",
    "    print (\"Je vais bien, merci.\")\n",
    "elif \"revoir\" in words:\n",
    "    print (\"à bientôt\")\n",
    "else:\n",
    "    print(\"???\")"
   ]
  },
  {
   "cell_type": "code",
   "execution_count": 14,
   "metadata": {},
   "outputs": [
    {
     "ename": "ModuleNotFoundError",
     "evalue": "No module named 'speech_recognition'",
     "output_type": "error",
     "traceback": [
      "\u001b[1;31m---------------------------------------------------------------------------\u001b[0m",
      "\u001b[1;31mModuleNotFoundError\u001b[0m                       Traceback (most recent call last)",
      "\u001b[1;32m<ipython-input-14-d19ef71b5c2a>\u001b[0m in \u001b[0;36m<module>\u001b[1;34m\u001b[0m\n\u001b[1;32m----> 1\u001b[1;33m \u001b[1;32mimport\u001b[0m \u001b[0mspeech_recognition\u001b[0m\u001b[1;33m\u001b[0m\u001b[1;33m\u001b[0m\u001b[0m\n\u001b[0m\u001b[0;32m      2\u001b[0m \u001b[1;33m\u001b[0m\u001b[0m\n\u001b[0;32m      3\u001b[0m \u001b[1;31m# obtain audio from microphone\u001b[0m\u001b[1;33m\u001b[0m\u001b[1;33m\u001b[0m\u001b[1;33m\u001b[0m\u001b[0m\n\u001b[0;32m      4\u001b[0m \u001b[0mrecognizer\u001b[0m \u001b[1;33m=\u001b[0m \u001b[0mspeech_recognition\u001b[0m\u001b[1;33m.\u001b[0m\u001b[0mRecognizer\u001b[0m\u001b[1;33m(\u001b[0m\u001b[1;33m)\u001b[0m\u001b[1;33m\u001b[0m\u001b[1;33m\u001b[0m\u001b[0m\n\u001b[0;32m      5\u001b[0m \u001b[1;32mwith\u001b[0m \u001b[0mspeech_recognition\u001b[0m\u001b[1;33m.\u001b[0m\u001b[0mMicrophone\u001b[0m\u001b[1;33m(\u001b[0m\u001b[1;33m)\u001b[0m \u001b[1;32mas\u001b[0m \u001b[0msource\u001b[0m\u001b[1;33m:\u001b[0m\u001b[1;33m\u001b[0m\u001b[1;33m\u001b[0m\u001b[0m\n",
      "\u001b[1;31mModuleNotFoundError\u001b[0m: No module named 'speech_recognition'"
     ]
    }
   ],
   "source": [
    "import speech_recognition\n",
    "\n",
    "# obtain audio from microphone\n",
    "recognizer = speech_recognition.Recognizer()\n",
    "with speech_recognition.Microphone() as source:\n",
    "    print(\"dites quelque chose ...\")\n",
    "    audio = recognizer.listen(source)\n",
    "\n",
    "print(\"Je pense que vous avez dit : \")\n",
    "print(recognizer.recognize_google(audio))\n",
    "\n",
    "# recognize speech using Google Speech Recognition\n",
    "words = recognizer.recognize_google(audio)\n",
    "\n",
    "# Respond to speech\n",
    "if \"bonjour\" in words:\n",
    "    print (\"Bonjour à toi aussi !\")\n",
    "elif \"comment\" in words:\n",
    "    print (\"Je vais bien, merci.\")\n",
    "elif \"revoir\" in words:\n",
    "    print (\"à bientôt\")\n",
    "else:\n",
    "    print(\"humm ...\")"
   ]
  },
  {
   "cell_type": "code",
   "execution_count": null,
   "metadata": {},
   "outputs": [],
   "source": [
    "import re\n",
    "import speech_recognition\n",
    "\n",
    "# obtain audio from microphone\n",
    "recognizer = speech_recognition.Recognizer()\n",
    "with speech_recognition.Microphone() as source:\n",
    "    print(\"dites quelque chose ...\")\n",
    "    audio = recognizer.listen(source)\n",
    "\n",
    "# recognize speech using Google Speech Recognition\n",
    "words = recognizer.recognize_google(audio)\n",
    "\n",
    "# Respond to speech\n",
    "matches = re.search(\"je m'appelle (.*)\", words)\n",
    "if matches:\n",
    "    print(f\"Salut, {matches[1]}.\")\n",
    "else:\n",
    "    print (\"Salut toi!\")"
   ]
  }
 ],
 "metadata": {
  "kernelspec": {
   "display_name": "Python 3",
   "language": "python",
   "name": "python3"
  },
  "language_info": {
   "codemirror_mode": {
    "name": "ipython",
    "version": 3
   },
   "file_extension": ".py",
   "mimetype": "text/x-python",
   "name": "python",
   "nbconvert_exporter": "python",
   "pygments_lexer": "ipython3",
   "version": "3.8.5"
  }
 },
 "nbformat": 4,
 "nbformat_minor": 4
}
