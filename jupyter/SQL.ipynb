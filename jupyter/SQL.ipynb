{
 "cells": [
  {
   "cell_type": "code",
   "execution_count": null,
   "metadata": {},
   "outputs": [],
   "source": [
    "SELECT\n",
    "    ROUND(EXTRACT(epoch FROM age(_camp_starts_at, birthday)) / (3600 * 24 * 365)) as age,\n",
    "    COUNT(DISTINCT id)\n",
    "FROM alumni\n",
    "GROUP BY 1\n",
    "HAVING ROUND(EXTRACT(epoche FROM age(_camp_starts_at, birthday)) / (3600 * 24 * 365)) > 15\n",
    "AND ROUND(EXTRACT(epoche FROM age(_camp_starts_at, birthday)) / (3600 * 24 * 365)) < 90\n",
    "ORDER BY 1"
   ]
  }
 ],
 "metadata": {
  "kernelspec": {
   "display_name": "Python 3",
   "language": "python",
   "name": "python3"
  },
  "language_info": {
   "codemirror_mode": {
    "name": "ipython",
    "version": 3
   },
   "file_extension": ".py",
   "mimetype": "text/x-python",
   "name": "python",
   "nbconvert_exporter": "python",
   "pygments_lexer": "ipython3",
   "version": "3.8.5"
  }
 },
 "nbformat": 4,
 "nbformat_minor": 4
}
