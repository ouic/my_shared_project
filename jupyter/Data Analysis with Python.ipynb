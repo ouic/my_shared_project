{
 "cells": [
  {
   "cell_type": "markdown",
   "metadata": {},
   "source": [
    "## Built-in Functions :\n",
    "\n",
    "- https://docs.python.org/3/library/functions.html"
   ]
  },
  {
   "cell_type": "markdown",
   "metadata": {},
   "source": [
    "## calling a method on the `str`:\n",
    "\n",
    "- https://docs.python.org/3/library/stdtypes.html#string-methods"
   ]
  },
  {
   "cell_type": "markdown",
   "metadata": {},
   "source": [
    "## Dataset Search :\n",
    "\n",
    "- https://datasetsearch.research.google.com/\n",
    "- https://www.kaggle.com\n",
    "- https://www.kaggle.com/datasets?sort=votes&datasetsOnly=true"
   ]
  },
  {
   "cell_type": "markdown",
   "metadata": {},
   "source": [
    "## Pandas\n",
    "(better than excel for Python):\n",
    "- handling large datasets (no limit on number of rows)\n",
    "- combine multiple files\n",
    "- pull data from APIs\n",
    "- Python"
   ]
  },
  {
   "cell_type": "markdown",
   "metadata": {},
   "source": [
    "Load data directly from a CSV file on disk :"
   ]
  },
  {
   "cell_type": "code",
   "execution_count": null,
   "metadata": {},
   "outputs": [],
   "source": [
    "import pandas as pd\n",
    "a_dataframe = pd.read_csv(FILEPATH)"
   ]
  },
  {
   "cell_type": "markdown",
   "metadata": {},
   "source": [
    "Load data from pultiple other sources :\n",
    "- https://pandas.pydata.org/pandas-docs/stable/user_guide/io.html"
   ]
  },
  {
   "cell_type": "markdown",
   "metadata": {},
   "source": [
    "## Seaborn\n",
    "Data visualization with Seaborn (based on matplotlib) :\n",
    "- https://seaborn.pydata.org/"
   ]
  },
  {
   "cell_type": "code",
   "execution_count": null,
   "metadata": {},
   "outputs": [],
   "source": [
    "import seaborn as sns"
   ]
  },
  {
   "cell_type": "markdown",
   "metadata": {},
   "source": [
    "New York City Airbnb Open Data\n",
    "Let's use this example :\n",
    "- https://www.kaggle.com/dgomonov/new-york-city-airbnb-open-data"
   ]
  },
  {
   "cell_type": "markdown",
   "metadata": {},
   "source": [
    "## Pandas"
   ]
  },
  {
   "cell_type": "code",
   "execution_count": 11,
   "metadata": {},
   "outputs": [],
   "source": [
    "import pandas as pd\n",
    "import os"
   ]
  },
  {
   "cell_type": "code",
   "execution_count": 14,
   "metadata": {},
   "outputs": [
    {
     "name": "stdout",
     "output_type": "stream",
     "text": [
      "['.astropy', '.ipynb_checkpoints', '.ipython', '.jupyter', '.matplotlib', '.openjfx', '3D Objects', 'Agreement.ipynb', 'ansel', 'AppData', 'Application Data', 'automatetheboringstuff.com.ipynb', 'Class.ipynb', 'Contacts', 'Cookies', 'Data Analysis with Python.ipynb', 'Debugging.ipynb', 'Desktop', 'Dictionaries + List (mix).ipynb', 'Dictionaries.ipynb', 'errorInfo.txt', 'Evaluation Le Wagon.ipynb', 'Favorites', 'Fonctions.ipynb', 'Input Validation.ipynb', 'Links', 'Lists.ipynb', 'Local Settings', 'Loops.ipynb', 'Mathématiques.ipynb', 'Menu Démarrer', 'Mes documents', 'Methods.ipynb', 'Modules.ipynb', 'Modèles', 'mu_code', 'mydata.bak', 'mydata.dat', 'mydata.dir', 'NTUSER.DAT', 'ntuser.dat.LOG1', 'ntuser.dat.LOG2', 'NTUSER.DAT{53b39e88-18c4-11ea-a811-000d3aa4692b}.TM.blf', 'NTUSER.DAT{53b39e88-18c4-11ea-a811-000d3aa4692b}.TMContainer00000000000000000001.regtrans-ms', 'NTUSER.DAT{53b39e88-18c4-11ea-a811-000d3aa4692b}.TMContainer00000000000000000002.regtrans-ms', 'ntuser.ini', 'Objets.ipynb', 'OneDrive', 'Organizing Files.ipynb', 'Packages.ipynb', 'phrases.ipynb', 'QR code.ipynb', 'Random.ipynb', 'Reading and writing files.ipynb', 'Recent', 'Regular Expressions.ipynb', 'Saved Games', 'Searches', 'SendTo', 'Si.ipynb', 'Sti_Trace.log', 'Strings.ipynb', 'Tableaux.ipynb', 'Titres.ipynb', 'Tuple.ipynb', 'Variables.ipynb', 'Voice Chat.ipynb', \"Voisinage d'impression\", 'Voisinage réseau']\n"
     ]
    }
   ],
   "source": [
    "print(os.listdir())"
   ]
  },
  {
   "cell_type": "code",
   "execution_count": null,
   "metadata": {},
   "outputs": [],
   "source": []
  }
 ],
 "metadata": {
  "kernelspec": {
   "display_name": "Python 3",
   "language": "python",
   "name": "python3"
  },
  "language_info": {
   "codemirror_mode": {
    "name": "ipython",
    "version": 3
   },
   "file_extension": ".py",
   "mimetype": "text/x-python",
   "name": "python",
   "nbconvert_exporter": "python",
   "pygments_lexer": "ipython3",
   "version": "3.8.5"
  }
 },
 "nbformat": 4,
 "nbformat_minor": 4
}
