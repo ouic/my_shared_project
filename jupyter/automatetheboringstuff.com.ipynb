{
 "cells": [
  {
   "cell_type": "code",
   "execution_count": 1,
   "metadata": {},
   "outputs": [
    {
     "name": "stdout",
     "output_type": "stream",
     "text": [
      "Hello, world!\n",
      "What is your name?\n",
      "Eric\n",
      "It is good to meet you, Eric\n",
      "The length of your name is:\n",
      "4\n",
      "What is your age?\n",
      "40\n",
      "You will be 41 in a year.\n"
     ]
    }
   ],
   "source": [
    "# This program says hello and asks for my name.\n",
    "\n",
    "print('Hello, world!')\n",
    "print('What is your name?')    # ask for their name\n",
    "myName = input()\n",
    "print('It is good to meet you, ' + myName)\n",
    "print('The length of your name is:')\n",
    "print(len(myName))\n",
    "print('What is your age?')    # ask for their age\n",
    "myAge = input()\n",
    "print('You will be ' + str(int(myAge) + 1) + ' in a year.')"
   ]
  },
  {
   "cell_type": "code",
   "execution_count": 3,
   "metadata": {},
   "outputs": [
    {
     "name": "stdout",
     "output_type": "stream",
     "text": [
      "5050\n"
     ]
    }
   ],
   "source": [
    "# addition 1+2+3+4+...+99+100\n",
    "total = 0\n",
    "for num in range(101):\n",
    "    total = total + num\n",
    "print(total)  "
   ]
  },
  {
   "cell_type": "code",
   "execution_count": 4,
   "metadata": {},
   "outputs": [
    {
     "name": "stdout",
     "output_type": "stream",
     "text": [
      "0\n",
      "2\n",
      "4\n",
      "6\n",
      "8\n"
     ]
    }
   ],
   "source": [
    "for i in range(0, 10, 2):\n",
    "    print(i)"
   ]
  },
  {
   "cell_type": "code",
   "execution_count": 5,
   "metadata": {},
   "outputs": [
    {
     "name": "stdout",
     "output_type": "stream",
     "text": [
      "5\n",
      "4\n",
      "3\n",
      "2\n",
      "1\n",
      "0\n"
     ]
    }
   ],
   "source": [
    "for i in range(5, -1, -1):\n",
    "    print(i)"
   ]
  },
  {
   "cell_type": "code",
   "execution_count": 6,
   "metadata": {},
   "outputs": [
    {
     "name": "stdout",
     "output_type": "stream",
     "text": [
      "7\n",
      "6\n",
      "2\n",
      "5\n",
      "4\n"
     ]
    }
   ],
   "source": [
    "import random\n",
    "for i in range(5):\n",
    "    print(random.randint(1, 10))"
   ]
  },
  {
   "cell_type": "code",
   "execution_count": 9,
   "metadata": {},
   "outputs": [
    {
     "name": "stdout",
     "output_type": "stream",
     "text": [
      "I am thinking of a number between 1 and 20.\n",
      "Take a guess.\n",
      "8\n",
      "Your guess is too low.\n",
      "Take a guess.\n",
      "14\n",
      "Your guess is too high.\n",
      "Take a guess.\n",
      "11\n",
      "Your guess is too high.\n",
      "Take a guess.\n",
      "10\n",
      "Good job! You guessed my number in 4 guesses!\n"
     ]
    }
   ],
   "source": [
    "# This is a guess the number game.\n",
    "import random\n",
    "secretNumber = random.randint(1, 20)\n",
    "print('I am thinking of a number between 1 and 20.')\n",
    "\n",
    "# Ask the player to guess 6 times.\n",
    "for guessesTaken in range(1, 7):\n",
    "    print('Take a guess.')\n",
    "    guess = int(input())\n",
    "\n",
    "    if guess < secretNumber:\n",
    "        print('Your guess is too low.')\n",
    "    elif guess > secretNumber:\n",
    "        print('Your guess is too high.')\n",
    "    else:\n",
    "        break    # This condition is the correct guess!\n",
    "\n",
    "if guess == secretNumber:\n",
    "    print('Good job! You guessed my number in ' + str(guessesTaken) + ' guesses!')\n",
    "else:\n",
    "    print('Nope. The number I was thinking of was ' + str(secretNumber))"
   ]
  },
  {
   "cell_type": "code",
   "execution_count": null,
   "metadata": {},
   "outputs": [
    {
     "name": "stdout",
     "output_type": "stream",
     "text": [
      "ROCK, PAPER, SCISSORS\n",
      "0 Wins, 0 Losses, 0 Ties\n",
      "Enter your move: (r)ock (p)aper (s)cissors or (q)uit\n",
      "r\n",
      "ROCK versus...\n",
      "ROCK\n",
      "It is a tie!\n",
      "0 Wins, 0 Losses, 1 Ties\n",
      "Enter your move: (r)ock (p)aper (s)cissors or (q)uit\n",
      "r\n",
      "ROCK versus...\n",
      "PAPER\n",
      "You lose!\n",
      "0 Wins, 1 Losses, 1 Ties\n",
      "Enter your move: (r)ock (p)aper (s)cissors or (q)uit\n",
      "r\n",
      "ROCK versus...\n",
      "ROCK\n",
      "It is a tie!\n",
      "0 Wins, 1 Losses, 2 Ties\n",
      "Enter your move: (r)ock (p)aper (s)cissors or (q)uit\n",
      "s\n",
      "SCISSORS versus...\n",
      "SCISSORS\n",
      "It is a tie!\n",
      "0 Wins, 1 Losses, 3 Ties\n",
      "Enter your move: (r)ock (p)aper (s)cissors or (q)uit\n",
      "s\n",
      "SCISSORS versus...\n",
      "SCISSORS\n",
      "It is a tie!\n",
      "0 Wins, 1 Losses, 4 Ties\n",
      "Enter your move: (r)ock (p)aper (s)cissors or (q)uit\n",
      "s\n",
      "SCISSORS versus...\n",
      "PAPER\n",
      "You win!\n",
      "1 Wins, 1 Losses, 4 Ties\n",
      "Enter your move: (r)ock (p)aper (s)cissors or (q)uit\n",
      "p\n",
      "PAPER versus...\n",
      "SCISSORS\n",
      "You lose!\n",
      "1 Wins, 2 Losses, 4 Ties\n",
      "Enter your move: (r)ock (p)aper (s)cissors or (q)uit\n"
     ]
    }
   ],
   "source": [
    "import random, sys\n",
    "\n",
    "print('ROCK, PAPER, SCISSORS')\n",
    "\n",
    "# These variables keep track of the number of wins, losses, and ties.\n",
    "wins = 0\n",
    "losses = 0\n",
    "ties = 0\n",
    "\n",
    "while True: # The main game loop.\n",
    "    print('%s Wins, %s Losses, %s Ties' % (wins, losses, ties))\n",
    "    while True: # The player input loop.\n",
    "        print('Enter your move: (r)ock (p)aper (s)cissors or (q)uit')\n",
    "        playerMove = input()\n",
    "        if playerMove == 'q':\n",
    "            sys.exit() # Quit the program.\n",
    "        if playerMove == 'r' or playerMove == 'p' or playerMove == 's':\n",
    "            break # Break out of the player input loop.\n",
    "        print('Type one of r, p, s, or q.')\n",
    "\n",
    "    # Display what the player chose:\n",
    "    if playerMove == 'r':\n",
    "        print('ROCK versus...')\n",
    "    elif playerMove == 'p':\n",
    "        print('PAPER versus...')\n",
    "    elif playerMove == 's':\n",
    "        print('SCISSORS versus...')\n",
    "\n",
    "    # Display what the computer chose:\n",
    "    randomNumber = random.randint(1, 3)\n",
    "    if randomNumber == 1:\n",
    "        computerMove = 'r'\n",
    "        print('ROCK')\n",
    "    elif randomNumber == 2:\n",
    "        computerMove = 'p'\n",
    "        print('PAPER')\n",
    "    elif randomNumber == 3:\n",
    "        computerMove = 's'\n",
    "        print('SCISSORS')\n",
    "\n",
    "    # Display and record the win/loss/tie:\n",
    "    if playerMove == computerMove:\n",
    "        print('It is a tie!')\n",
    "        ties = ties + 1\n",
    "    elif playerMove == 'r' and computerMove == 's':\n",
    "        print('You win!')\n",
    "        wins = wins + 1\n",
    "    elif playerMove == 'p' and computerMove == 'r':\n",
    "        print('You win!')\n",
    "        wins = wins + 1\n",
    "    elif playerMove == 's' and computerMove == 'p':\n",
    "        print('You win!')\n",
    "        wins = wins + 1\n",
    "    elif playerMove == 'r' and computerMove == 'p':\n",
    "        print('You lose!')\n",
    "        losses = losses + 1\n",
    "    elif playerMove == 'p' and computerMove == 's':\n",
    "        print('You lose!')\n",
    "        losses = losses + 1\n",
    "    elif playerMove == 's' and computerMove == 'r':\n",
    "        print('You lose!')\n",
    "        losses = losses + 1"
   ]
  },
  {
   "cell_type": "code",
   "execution_count": 7,
   "metadata": {},
   "outputs": [
    {
     "name": "stdout",
     "output_type": "stream",
     "text": [
      "It is certain\n"
     ]
    }
   ],
   "source": [
    "import random\n",
    "\n",
    "def getAnswer(answerNumber):\n",
    "    if answerNumber == 1:\n",
    "        return 'It is certain'\n",
    "    elif answerNumber == 2:\n",
    "        return 'It is decidedly so'\n",
    "    elif answerNumber == 3:\n",
    "        return 'Yes'\n",
    "    elif answerNumber == 4:\n",
    "        return 'Reply hazy try again'\n",
    "    elif answerNumber == 5:\n",
    "        return 'Ask again later'\n",
    "    elif answerNumber == 6:\n",
    "        return 'Concentrate and ask again'\n",
    "    elif answerNumber == 7:\n",
    "        return 'My reply is no'\n",
    "    elif answerNumber == 8:\n",
    "        return 'Outlook not so good'\n",
    "    elif answerNumber == 9:\n",
    "        return 'Very doubtful'\n",
    "\n",
    "r = random.randint(1, 9)\n",
    "fortune = getAnswer(r)\n",
    "print(fortune)\n",
    "# is equivalent to :\n",
    "# print(getAnswer(random.randint(1, 9)))"
   ]
  },
  {
   "cell_type": "code",
   "execution_count": 9,
   "metadata": {},
   "outputs": [
    {
     "name": "stdout",
     "output_type": "stream",
     "text": [
      "a() début\n",
      "b() début\n",
      "c() début\n",
      "c() fin\n",
      "b() fin\n",
      "d() début\n",
      "d() fin\n",
      "a() fin\n"
     ]
    }
   ],
   "source": [
    "def a():\n",
    "    print('a() début')\n",
    "    b()\n",
    "    d()\n",
    "    print('a() fin')\n",
    "\n",
    "def b():\n",
    "    print('b() début')\n",
    "    c()\n",
    "    print('b() fin')\n",
    "\n",
    "def c():\n",
    "    print('c() début')\n",
    "    print('c() fin')\n",
    "\n",
    "def d():\n",
    "    print('d() début')\n",
    "    print('d() fin')\n",
    "\n",
    "a()"
   ]
  },
  {
   "cell_type": "code",
   "execution_count": 10,
   "metadata": {},
   "outputs": [
    {
     "name": "stdout",
     "output_type": "stream",
     "text": [
      "********\n",
      " ********\n",
      "  ********\n",
      "   ********\n",
      "    ********\n",
      "     ********\n",
      "      ********\n",
      "       ********\n",
      "        ********\n",
      "         ********\n",
      "          ********\n",
      "           ********\n",
      "            ********\n",
      "             ********\n",
      "              ********\n",
      "               ********\n",
      "                ********\n",
      "                 ********\n",
      "                  ********\n",
      "                   ********\n",
      "                    ********\n",
      "                   ********\n",
      "                  ********\n",
      "                 ********\n",
      "                ********\n",
      "               ********\n",
      "              ********\n",
      "             ********\n",
      "            ********\n",
      "           ********\n",
      "          ********\n",
      "         ********\n",
      "        ********\n",
      "       ********\n",
      "      ********\n",
      "     ********\n",
      "    ********\n",
      "   ********\n",
      "  ********\n",
      " ********\n",
      "********\n",
      " ********\n",
      "  ********\n",
      "   ********\n",
      "    ********\n",
      "     ********\n",
      "      ********\n",
      "       ********\n",
      "        ********\n",
      "         ********\n",
      "          ********\n",
      "           ********\n",
      "            ********\n",
      "             ********\n",
      "              ********\n",
      "               ********\n",
      "                ********\n",
      "                 ********\n",
      "                  ********\n",
      "                   ********\n",
      "                    ********\n",
      "                   ********\n",
      "                  ********\n",
      "                 ********\n",
      "                ********\n",
      "               ********\n",
      "              ********\n",
      "             ********\n",
      "            ********\n",
      "           ********\n",
      "          ********\n",
      "         ********\n",
      "        ********\n",
      "       ********\n",
      "      ********\n",
      "     ********\n",
      "    ********\n",
      "   ********\n",
      "  ********\n",
      " ********\n",
      "********\n",
      " ********\n",
      "  ********\n",
      "   ********\n",
      "    ********\n",
      "     ********\n",
      "      ********\n",
      "       ********\n",
      "        ********\n",
      "         ********\n",
      "          ********\n",
      "           ********\n",
      "            ********\n",
      "             ********\n",
      "              ********\n",
      "               ********\n"
     ]
    },
    {
     "name": "stderr",
     "output_type": "stream",
     "text": [
      "ERROR:root:Internal Python error in the inspect module.\n",
      "Below is the traceback from this internal error.\n",
      "\n"
     ]
    },
    {
     "name": "stdout",
     "output_type": "stream",
     "text": [
      "                ********\n",
      "Traceback (most recent call last):\n",
      "  File \"<ipython-input-10-4a7fe06d4580>\", line 9, in <module>\n",
      "    time.sleep(0.1) # Pause for 1/10 of a second.\n",
      "KeyboardInterrupt\n",
      "\n",
      "During handling of the above exception, another exception occurred:\n",
      "\n",
      "Traceback (most recent call last):\n",
      "  File \"P:\\anaconda3\\lib\\site-packages\\IPython\\core\\interactiveshell.py\", line 3418, in run_code\n",
      "    exec(code_obj, self.user_global_ns, self.user_ns)\n",
      "  File \"<ipython-input-10-4a7fe06d4580>\", line 25, in <module>\n",
      "    sys.exit()\n",
      "SystemExit\n",
      "\n",
      "During handling of the above exception, another exception occurred:\n",
      "\n",
      "Traceback (most recent call last):\n",
      "  File \"P:\\anaconda3\\lib\\site-packages\\IPython\\core\\ultratb.py\", line 1170, in get_records\n",
      "    return _fixed_getinnerframes(etb, number_of_lines_of_context, tb_offset)\n",
      "  File \"P:\\anaconda3\\lib\\site-packages\\IPython\\core\\ultratb.py\", line 316, in wrapped\n",
      "    return f(*args, **kwargs)\n",
      "  File \"P:\\anaconda3\\lib\\site-packages\\IPython\\core\\ultratb.py\", line 350, in _fixed_getinnerframes\n",
      "    records = fix_frame_records_filenames(inspect.getinnerframes(etb, context))\n",
      "  File \"P:\\anaconda3\\lib\\inspect.py\", line 1503, in getinnerframes\n",
      "    frameinfo = (tb.tb_frame,) + getframeinfo(tb, context)\n",
      "AttributeError: 'tuple' object has no attribute 'tb_frame'\n"
     ]
    },
    {
     "ename": "TypeError",
     "evalue": "object of type 'NoneType' has no len()",
     "output_type": "error",
     "traceback": [
      "\u001b[1;31m---------------------------------------------------------------------------\u001b[0m",
      "\u001b[1;31mKeyboardInterrupt\u001b[0m                         Traceback (most recent call last)",
      "\u001b[1;32m<ipython-input-10-4a7fe06d4580>\u001b[0m in \u001b[0;36m<module>\u001b[1;34m\u001b[0m\n\u001b[0;32m      8\u001b[0m         \u001b[0mprint\u001b[0m\u001b[1;33m(\u001b[0m\u001b[1;34m'********'\u001b[0m\u001b[1;33m)\u001b[0m\u001b[1;33m\u001b[0m\u001b[1;33m\u001b[0m\u001b[0m\n\u001b[1;32m----> 9\u001b[1;33m         \u001b[0mtime\u001b[0m\u001b[1;33m.\u001b[0m\u001b[0msleep\u001b[0m\u001b[1;33m(\u001b[0m\u001b[1;36m0.1\u001b[0m\u001b[1;33m)\u001b[0m \u001b[1;31m# Pause for 1/10 of a second.\u001b[0m\u001b[1;33m\u001b[0m\u001b[1;33m\u001b[0m\u001b[0m\n\u001b[0m\u001b[0;32m     10\u001b[0m \u001b[1;33m\u001b[0m\u001b[0m\n",
      "\u001b[1;31mKeyboardInterrupt\u001b[0m: ",
      "\nDuring handling of the above exception, another exception occurred:\n",
      "\u001b[1;31mSystemExit\u001b[0m                                Traceback (most recent call last)",
      "    \u001b[1;31m[... skipping hidden 1 frame]\u001b[0m\n",
      "\u001b[1;32m<ipython-input-10-4a7fe06d4580>\u001b[0m in \u001b[0;36m<module>\u001b[1;34m\u001b[0m\n\u001b[0;32m     24\u001b[0m \u001b[1;32mexcept\u001b[0m \u001b[0mKeyboardInterrupt\u001b[0m\u001b[1;33m:\u001b[0m\u001b[1;33m\u001b[0m\u001b[1;33m\u001b[0m\u001b[0m\n\u001b[1;32m---> 25\u001b[1;33m     \u001b[0msys\u001b[0m\u001b[1;33m.\u001b[0m\u001b[0mexit\u001b[0m\u001b[1;33m(\u001b[0m\u001b[1;33m)\u001b[0m\u001b[1;33m\u001b[0m\u001b[1;33m\u001b[0m\u001b[0m\n\u001b[0m",
      "\u001b[1;31mSystemExit\u001b[0m: ",
      "\nDuring handling of the above exception, another exception occurred:\n",
      "\u001b[1;31mTypeError\u001b[0m                                 Traceback (most recent call last)",
      "    \u001b[1;31m[... skipping hidden 1 frame]\u001b[0m\n",
      "\u001b[1;32mP:\\anaconda3\\lib\\site-packages\\IPython\\core\\interactiveshell.py\u001b[0m in \u001b[0;36mshowtraceback\u001b[1;34m(self, exc_tuple, filename, tb_offset, exception_only, running_compiled_code)\u001b[0m\n\u001b[0;32m   2036\u001b[0m                     stb = ['An exception has occurred, use %tb to see '\n\u001b[0;32m   2037\u001b[0m                            'the full traceback.\\n']\n\u001b[1;32m-> 2038\u001b[1;33m                     stb.extend(self.InteractiveTB.get_exception_only(etype,\n\u001b[0m\u001b[0;32m   2039\u001b[0m                                                                      value))\n\u001b[0;32m   2040\u001b[0m                 \u001b[1;32melse\u001b[0m\u001b[1;33m:\u001b[0m\u001b[1;33m\u001b[0m\u001b[1;33m\u001b[0m\u001b[0m\n",
      "\u001b[1;32mP:\\anaconda3\\lib\\site-packages\\IPython\\core\\ultratb.py\u001b[0m in \u001b[0;36mget_exception_only\u001b[1;34m(self, etype, value)\u001b[0m\n\u001b[0;32m    821\u001b[0m         \u001b[0mvalue\u001b[0m \u001b[1;33m:\u001b[0m \u001b[0mexception\u001b[0m \u001b[0mvalue\u001b[0m\u001b[1;33m\u001b[0m\u001b[1;33m\u001b[0m\u001b[0m\n\u001b[0;32m    822\u001b[0m         \"\"\"\n\u001b[1;32m--> 823\u001b[1;33m         \u001b[1;32mreturn\u001b[0m \u001b[0mListTB\u001b[0m\u001b[1;33m.\u001b[0m\u001b[0mstructured_traceback\u001b[0m\u001b[1;33m(\u001b[0m\u001b[0mself\u001b[0m\u001b[1;33m,\u001b[0m \u001b[0metype\u001b[0m\u001b[1;33m,\u001b[0m \u001b[0mvalue\u001b[0m\u001b[1;33m)\u001b[0m\u001b[1;33m\u001b[0m\u001b[1;33m\u001b[0m\u001b[0m\n\u001b[0m\u001b[0;32m    824\u001b[0m \u001b[1;33m\u001b[0m\u001b[0m\n\u001b[0;32m    825\u001b[0m     \u001b[1;32mdef\u001b[0m \u001b[0mshow_exception_only\u001b[0m\u001b[1;33m(\u001b[0m\u001b[0mself\u001b[0m\u001b[1;33m,\u001b[0m \u001b[0metype\u001b[0m\u001b[1;33m,\u001b[0m \u001b[0mevalue\u001b[0m\u001b[1;33m)\u001b[0m\u001b[1;33m:\u001b[0m\u001b[1;33m\u001b[0m\u001b[1;33m\u001b[0m\u001b[0m\n",
      "\u001b[1;32mP:\\anaconda3\\lib\\site-packages\\IPython\\core\\ultratb.py\u001b[0m in \u001b[0;36mstructured_traceback\u001b[1;34m(self, etype, evalue, etb, tb_offset, context)\u001b[0m\n\u001b[0;32m    696\u001b[0m             \u001b[0mchained_exceptions_tb_offset\u001b[0m \u001b[1;33m=\u001b[0m \u001b[1;36m0\u001b[0m\u001b[1;33m\u001b[0m\u001b[1;33m\u001b[0m\u001b[0m\n\u001b[0;32m    697\u001b[0m             out_list = (\n\u001b[1;32m--> 698\u001b[1;33m                 self.structured_traceback(\n\u001b[0m\u001b[0;32m    699\u001b[0m                     \u001b[0metype\u001b[0m\u001b[1;33m,\u001b[0m \u001b[0mevalue\u001b[0m\u001b[1;33m,\u001b[0m \u001b[1;33m(\u001b[0m\u001b[0metb\u001b[0m\u001b[1;33m,\u001b[0m \u001b[0mchained_exc_ids\u001b[0m\u001b[1;33m)\u001b[0m\u001b[1;33m,\u001b[0m\u001b[1;33m\u001b[0m\u001b[1;33m\u001b[0m\u001b[0m\n\u001b[0;32m    700\u001b[0m                     chained_exceptions_tb_offset, context)\n",
      "\u001b[1;32mP:\\anaconda3\\lib\\site-packages\\IPython\\core\\ultratb.py\u001b[0m in \u001b[0;36mstructured_traceback\u001b[1;34m(self, etype, value, tb, tb_offset, number_of_lines_of_context)\u001b[0m\n\u001b[0;32m   1434\u001b[0m         \u001b[1;32melse\u001b[0m\u001b[1;33m:\u001b[0m\u001b[1;33m\u001b[0m\u001b[1;33m\u001b[0m\u001b[0m\n\u001b[0;32m   1435\u001b[0m             \u001b[0mself\u001b[0m\u001b[1;33m.\u001b[0m\u001b[0mtb\u001b[0m \u001b[1;33m=\u001b[0m \u001b[0mtb\u001b[0m\u001b[1;33m\u001b[0m\u001b[1;33m\u001b[0m\u001b[0m\n\u001b[1;32m-> 1436\u001b[1;33m         return FormattedTB.structured_traceback(\n\u001b[0m\u001b[0;32m   1437\u001b[0m             self, etype, value, tb, tb_offset, number_of_lines_of_context)\n\u001b[0;32m   1438\u001b[0m \u001b[1;33m\u001b[0m\u001b[0m\n",
      "\u001b[1;32mP:\\anaconda3\\lib\\site-packages\\IPython\\core\\ultratb.py\u001b[0m in \u001b[0;36mstructured_traceback\u001b[1;34m(self, etype, value, tb, tb_offset, number_of_lines_of_context)\u001b[0m\n\u001b[0;32m   1334\u001b[0m         \u001b[1;32mif\u001b[0m \u001b[0mmode\u001b[0m \u001b[1;32min\u001b[0m \u001b[0mself\u001b[0m\u001b[1;33m.\u001b[0m\u001b[0mverbose_modes\u001b[0m\u001b[1;33m:\u001b[0m\u001b[1;33m\u001b[0m\u001b[1;33m\u001b[0m\u001b[0m\n\u001b[0;32m   1335\u001b[0m             \u001b[1;31m# Verbose modes need a full traceback\u001b[0m\u001b[1;33m\u001b[0m\u001b[1;33m\u001b[0m\u001b[1;33m\u001b[0m\u001b[0m\n\u001b[1;32m-> 1336\u001b[1;33m             return VerboseTB.structured_traceback(\n\u001b[0m\u001b[0;32m   1337\u001b[0m                 \u001b[0mself\u001b[0m\u001b[1;33m,\u001b[0m \u001b[0metype\u001b[0m\u001b[1;33m,\u001b[0m \u001b[0mvalue\u001b[0m\u001b[1;33m,\u001b[0m \u001b[0mtb\u001b[0m\u001b[1;33m,\u001b[0m \u001b[0mtb_offset\u001b[0m\u001b[1;33m,\u001b[0m \u001b[0mnumber_of_lines_of_context\u001b[0m\u001b[1;33m\u001b[0m\u001b[1;33m\u001b[0m\u001b[0m\n\u001b[0;32m   1338\u001b[0m             )\n",
      "\u001b[1;32mP:\\anaconda3\\lib\\site-packages\\IPython\\core\\ultratb.py\u001b[0m in \u001b[0;36mstructured_traceback\u001b[1;34m(self, etype, evalue, etb, tb_offset, number_of_lines_of_context)\u001b[0m\n\u001b[0;32m   1191\u001b[0m         \u001b[1;34m\"\"\"Return a nice text document describing the traceback.\"\"\"\u001b[0m\u001b[1;33m\u001b[0m\u001b[1;33m\u001b[0m\u001b[0m\n\u001b[0;32m   1192\u001b[0m \u001b[1;33m\u001b[0m\u001b[0m\n\u001b[1;32m-> 1193\u001b[1;33m         formatted_exception = self.format_exception_as_a_whole(etype, evalue, etb, number_of_lines_of_context,\n\u001b[0m\u001b[0;32m   1194\u001b[0m                                                                tb_offset)\n\u001b[0;32m   1195\u001b[0m \u001b[1;33m\u001b[0m\u001b[0m\n",
      "\u001b[1;32mP:\\anaconda3\\lib\\site-packages\\IPython\\core\\ultratb.py\u001b[0m in \u001b[0;36mformat_exception_as_a_whole\u001b[1;34m(self, etype, evalue, etb, number_of_lines_of_context, tb_offset)\u001b[0m\n\u001b[0;32m   1149\u001b[0m \u001b[1;33m\u001b[0m\u001b[0m\n\u001b[0;32m   1150\u001b[0m \u001b[1;33m\u001b[0m\u001b[0m\n\u001b[1;32m-> 1151\u001b[1;33m         \u001b[0mlast_unique\u001b[0m\u001b[1;33m,\u001b[0m \u001b[0mrecursion_repeat\u001b[0m \u001b[1;33m=\u001b[0m \u001b[0mfind_recursion\u001b[0m\u001b[1;33m(\u001b[0m\u001b[0morig_etype\u001b[0m\u001b[1;33m,\u001b[0m \u001b[0mevalue\u001b[0m\u001b[1;33m,\u001b[0m \u001b[0mrecords\u001b[0m\u001b[1;33m)\u001b[0m\u001b[1;33m\u001b[0m\u001b[1;33m\u001b[0m\u001b[0m\n\u001b[0m\u001b[0;32m   1152\u001b[0m \u001b[1;33m\u001b[0m\u001b[0m\n\u001b[0;32m   1153\u001b[0m         \u001b[0mframes\u001b[0m \u001b[1;33m=\u001b[0m \u001b[0mself\u001b[0m\u001b[1;33m.\u001b[0m\u001b[0mformat_records\u001b[0m\u001b[1;33m(\u001b[0m\u001b[0mrecords\u001b[0m\u001b[1;33m,\u001b[0m \u001b[0mlast_unique\u001b[0m\u001b[1;33m,\u001b[0m \u001b[0mrecursion_repeat\u001b[0m\u001b[1;33m)\u001b[0m\u001b[1;33m\u001b[0m\u001b[1;33m\u001b[0m\u001b[0m\n",
      "\u001b[1;32mP:\\anaconda3\\lib\\site-packages\\IPython\\core\\ultratb.py\u001b[0m in \u001b[0;36mfind_recursion\u001b[1;34m(etype, value, records)\u001b[0m\n\u001b[0;32m    449\u001b[0m     \u001b[1;31m# first frame (from in to out) that looks different.\u001b[0m\u001b[1;33m\u001b[0m\u001b[1;33m\u001b[0m\u001b[1;33m\u001b[0m\u001b[0m\n\u001b[0;32m    450\u001b[0m     \u001b[1;32mif\u001b[0m \u001b[1;32mnot\u001b[0m \u001b[0mis_recursion_error\u001b[0m\u001b[1;33m(\u001b[0m\u001b[0metype\u001b[0m\u001b[1;33m,\u001b[0m \u001b[0mvalue\u001b[0m\u001b[1;33m,\u001b[0m \u001b[0mrecords\u001b[0m\u001b[1;33m)\u001b[0m\u001b[1;33m:\u001b[0m\u001b[1;33m\u001b[0m\u001b[1;33m\u001b[0m\u001b[0m\n\u001b[1;32m--> 451\u001b[1;33m         \u001b[1;32mreturn\u001b[0m \u001b[0mlen\u001b[0m\u001b[1;33m(\u001b[0m\u001b[0mrecords\u001b[0m\u001b[1;33m)\u001b[0m\u001b[1;33m,\u001b[0m \u001b[1;36m0\u001b[0m\u001b[1;33m\u001b[0m\u001b[1;33m\u001b[0m\u001b[0m\n\u001b[0m\u001b[0;32m    452\u001b[0m \u001b[1;33m\u001b[0m\u001b[0m\n\u001b[0;32m    453\u001b[0m     \u001b[1;31m# Select filename, lineno, func_name to track frames with\u001b[0m\u001b[1;33m\u001b[0m\u001b[1;33m\u001b[0m\u001b[1;33m\u001b[0m\u001b[0m\n",
      "\u001b[1;31mTypeError\u001b[0m: object of type 'NoneType' has no len()"
     ]
    }
   ],
   "source": [
    "import time, sys\n",
    "indent = 0 # How many spaces to indent.\n",
    "indentIncreasing = True # Whether the indentation is increasing or not.\n",
    "\n",
    "try:\n",
    "    while True: # The main program loop.\n",
    "        print(' ' * indent, end='')\n",
    "        print('********')\n",
    "        time.sleep(0.1) # Pause for 1/10 of a second.\n",
    "\n",
    "        if indentIncreasing:\n",
    "            # Increase the number of spaces:\n",
    "            indent = indent + 1\n",
    "            if indent == 20:\n",
    "                # Change direction:\n",
    "                indentIncreasing = False\n",
    "\n",
    "        else:\n",
    "            # Decrease the number of spaces:\n",
    "            indent = indent - 1\n",
    "            if indent == 0:\n",
    "                # Change direction:\n",
    "                indentIncreasing = True\n",
    "except KeyboardInterrupt:\n",
    "    sys.exit()"
   ]
  },
  {
   "cell_type": "code",
   "execution_count": 11,
   "metadata": {},
   "outputs": [
    {
     "name": "stdout",
     "output_type": "stream",
     "text": [
      "Enter the name of cat 1 (Or enter nothing to stop.):\n",
      "milou\n",
      "Enter the name of cat 2 (Or enter nothing to stop.):\n",
      "titus\n",
      "Enter the name of cat 3 (Or enter nothing to stop.):\n",
      "chatou\n",
      "Enter the name of cat 4 (Or enter nothing to stop.):\n",
      "briyou\n",
      "Enter the name of cat 5 (Or enter nothing to stop.):\n",
      "matchi\n",
      "Enter the name of cat 6 (Or enter nothing to stop.):\n",
      "\n",
      "The cat names are:\n",
      "  milou\n",
      "  titus\n",
      "  chatou\n",
      "  briyou\n",
      "  matchi\n"
     ]
    }
   ],
   "source": [
    "catNames = []\n",
    "while True:\n",
    "    print('Enter the name of cat ' + str(len(catNames) + 1) +\n",
    "      ' (Or enter nothing to stop.):')\n",
    "    name = input()\n",
    "    if name == '':\n",
    "        break\n",
    "    catNames = catNames + [name]  # list concatenation\n",
    "print('The cat names are:')\n",
    "for name in catNames:\n",
    "    print('  ' + name)"
   ]
  },
  {
   "cell_type": "code",
   "execution_count": 12,
   "metadata": {},
   "outputs": [
    {
     "name": "stdout",
     "output_type": "stream",
     "text": [
      "Index 0 in supplies is: pens\n",
      "Index 1 in supplies is: staplers\n",
      "Index 2 in supplies is: flamethrowers\n",
      "Index 3 in supplies is: binders\n"
     ]
    }
   ],
   "source": [
    "supplies = ['pens', 'staplers', 'flamethrowers', 'binders']\n",
    "for i in range(len(supplies)):\n",
    "    print('Index ' + str(i) + ' in supplies is: ' + supplies[i])"
   ]
  },
  {
   "cell_type": "code",
   "execution_count": 18,
   "metadata": {},
   "outputs": [
    {
     "name": "stdout",
     "output_type": "stream",
     "text": [
      "Index 0 in supplies is: pens\n",
      "Index 1 in supplies is: staplers\n",
      "Index 2 in supplies is: flamethrowers\n",
      "Index 3 in supplies is: binders\n"
     ]
    }
   ],
   "source": [
    "# enumerate() will return two values: the index of the item in the list, and the item in the list itself\n",
    "supplies = ['pens', 'staplers', 'flamethrowers', 'binders']\n",
    "for index, item in enumerate(supplies):\n",
    "    print('Index ' + str(index) + ' in supplies is: ' + item)"
   ]
  },
  {
   "cell_type": "code",
   "execution_count": 16,
   "metadata": {},
   "outputs": [
    {
     "name": "stdout",
     "output_type": "stream",
     "text": [
      "fat\n"
     ]
    }
   ],
   "source": [
    "cat = ['fat', 'gray', 'loud']\n",
    "size = cat[0]\n",
    "color = cat[1]\n",
    "disposition = cat[2]\n",
    "print(size)"
   ]
  },
  {
   "cell_type": "code",
   "execution_count": 17,
   "metadata": {},
   "outputs": [
    {
     "name": "stdout",
     "output_type": "stream",
     "text": [
      "fat\n"
     ]
    }
   ],
   "source": [
    "# multiple assignment trick (technically called tuple unpacking)\n",
    "# is a shortcut that lets you assign multiple variables with the values in a list in one line of code\n",
    "cat = ['fat', 'gray', 'loud']\n",
    "size, color, disposition = cat\n",
    "print(size)"
   ]
  },
  {
   "cell_type": "code",
   "execution_count": 24,
   "metadata": {},
   "outputs": [
    {
     "name": "stdout",
     "output_type": "stream",
     "text": [
      "Moose Dog Dog Dog Cat\n"
     ]
    }
   ],
   "source": [
    "# random.choice(someList)\n",
    "import random\n",
    "pets = ['Dog', 'Cat', 'Moose']\n",
    "print(random.choice(pets), random.choice(pets), random.choice(pets), random.choice(pets), random.choice(pets))"
   ]
  },
  {
   "cell_type": "code",
   "execution_count": 25,
   "metadata": {},
   "outputs": [
    {
     "data": {
      "text/plain": [
       "['Carol', 'David', 'Bob', 'Alice']"
      ]
     },
     "execution_count": 25,
     "metadata": {},
     "output_type": "execute_result"
    }
   ],
   "source": [
    "# random.shuffle(someList)\n",
    "import random\n",
    "people = ['Alice', 'Bob', 'Carol', 'David']\n",
    "random.shuffle(people)\n",
    "people"
   ]
  },
  {
   "cell_type": "code",
   "execution_count": null,
   "metadata": {},
   "outputs": [],
   "source": []
  }
 ],
 "metadata": {
  "kernelspec": {
   "display_name": "Python 3",
   "language": "python",
   "name": "python3"
  },
  "language_info": {
   "codemirror_mode": {
    "name": "ipython",
    "version": 3
   },
   "file_extension": ".py",
   "mimetype": "text/x-python",
   "name": "python",
   "nbconvert_exporter": "python",
   "pygments_lexer": "ipython3",
   "version": "3.8.5"
  }
 },
 "nbformat": 4,
 "nbformat_minor": 4
}
