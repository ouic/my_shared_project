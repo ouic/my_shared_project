{
 "cells": [
  {
   "cell_type": "code",
   "execution_count": 1,
   "metadata": {},
   "outputs": [],
   "source": [
    "le_wagon_team = [\n",
    "    {'name': 'ben', 'age': 31, 'country': 'france', 'hobbies': ['coding', 'biking']},\n",
    "    {'name': 'quinn', 'age': 26, 'country': 'ireland', 'hobbies': ['skiing']},\n",
    "    {'name': 'sasha', 'age': 24, 'country': 'lebanon', 'hobbies': ['sports']},\n",
    "    {'name': 'alex', 'age': 28, 'country': 'austria', 'hobbies': []}\n",
    "]"
   ]
  },
  {
   "cell_type": "code",
   "execution_count": 2,
   "metadata": {},
   "outputs": [
    {
     "name": "stdout",
     "output_type": "stream",
     "text": [
      "le_wagon_team is of type <class 'list'>\n"
     ]
    }
   ],
   "source": [
    "# vérifier le type\n",
    "print(\"le_wagon_team is of type\", type(le_wagon_team))"
   ]
  },
  {
   "cell_type": "code",
   "execution_count": 3,
   "metadata": {},
   "outputs": [
    {
     "data": {
      "text/plain": [
       "dict"
      ]
     },
     "execution_count": 3,
     "metadata": {},
     "output_type": "execute_result"
    }
   ],
   "source": [
    "type(le_wagon_team[3])"
   ]
  },
  {
   "cell_type": "code",
   "execution_count": 4,
   "metadata": {},
   "outputs": [
    {
     "data": {
      "text/plain": [
       "4"
      ]
     },
     "execution_count": 4,
     "metadata": {},
     "output_type": "execute_result"
    }
   ],
   "source": [
    "len(le_wagon_team)"
   ]
  },
  {
   "cell_type": "code",
   "execution_count": 5,
   "metadata": {},
   "outputs": [
    {
     "name": "stdout",
     "output_type": "stream",
     "text": [
      "Ben a 31 ans\n"
     ]
    }
   ],
   "source": [
    "# age de Ben\n",
    "print(\"Ben a\", le_wagon_team[0].get('age'), \"ans\")"
   ]
  },
  {
   "cell_type": "code",
   "execution_count": 6,
   "metadata": {},
   "outputs": [],
   "source": [
    "# ajouter un hobby à Alex\n",
    "le_wagon_team[3].update({'hobbies': ['video games']})"
   ]
  },
  {
   "cell_type": "code",
   "execution_count": 7,
   "metadata": {},
   "outputs": [
    {
     "name": "stdout",
     "output_type": "stream",
     "text": [
      "[{'name': 'ben', 'age': 31, 'country': 'france', 'hobbies': ['coding', 'biking']}, {'name': 'quinn', 'age': 26, 'country': 'ireland', 'hobbies': ['skiing']}, {'name': 'sasha', 'age': 24, 'country': 'lebanon', 'hobbies': ['sports']}, {'name': 'alex', 'age': 28, 'country': 'austria', 'hobbies': ['video games']}, {'name': 'Rebecca', 'age': 27, 'country': 'scotland', 'hobbies': ['travel']}]\n"
     ]
    }
   ],
   "source": [
    "# add a new team member\n",
    "le_wagon_team.append({'name': 'Rebecca', 'age': 27, 'country': 'scotland', 'hobbies': ['travel']})\n",
    "print(le_wagon_team)"
   ]
  },
  {
   "cell_type": "code",
   "execution_count": 8,
   "metadata": {},
   "outputs": [
    {
     "name": "stdout",
     "output_type": "stream",
     "text": [
      "ben (31 years old)\n",
      "quinn (26 years old)\n",
      "sasha (24 years old)\n",
      "alex (28 years old)\n",
      "Rebecca (27 years old)\n"
     ]
    }
   ],
   "source": [
    "# afficher le nom et l'age de chaque membre\n",
    "for i in range(0, len(le_wagon_team)):\n",
    "    prenom = le_wagon_team[i].get('name')\n",
    "    valeur = le_wagon_team[i].get('age')\n",
    "    msg = \"{0} ({1} years old)\".format(prenom,valeur)\n",
    "    print(msg)\n",
    "    i += 1"
   ]
  },
  {
   "cell_type": "code",
   "execution_count": 9,
   "metadata": {},
   "outputs": [
    {
     "name": "stdout",
     "output_type": "stream",
     "text": [
      "\"Hello world\"\n"
     ]
    }
   ],
   "source": [
    "a = \"Hello\"\n",
    "b = \"world\"\n",
    "def concatenate_strings(string_one, string_two):\n",
    "    # expected output\n",
    "    # \"Hello world\"\n",
    "    # Code the rest of the method below\n",
    "    result = '\"' + string_one + ' ' +  string_two + '\"'\n",
    "    print (result)\n",
    "    return;\n",
    "\n",
    "concatenate_strings(a, b)"
   ]
  },
  {
   "cell_type": "code",
   "execution_count": 10,
   "metadata": {},
   "outputs": [
    {
     "name": "stdout",
     "output_type": "stream",
     "text": [
      "False\n",
      "True\n"
     ]
    }
   ],
   "source": [
    "first_word = \"wow\"\n",
    "# longer_than_five(first_word)\n",
    "# expected output: False\n",
    "\n",
    "second_word = \"amazing\"\n",
    "# longer_than_five(second_word)\n",
    "# expected output: True\n",
    "\n",
    "def longer_than_five(string):\n",
    "    # Code the rest of the function below\n",
    "    if len(string) > 5:\n",
    "        print('True')\n",
    "    else:\n",
    "        print('False')\n",
    "    return;\n",
    "\n",
    "longer_than_five(first_word)\n",
    "longer_than_five(second_word)        "
   ]
  },
  {
   "cell_type": "code",
   "execution_count": 11,
   "metadata": {},
   "outputs": [
    {
     "name": "stdout",
     "output_type": "stream",
     "text": [
      "1\n",
      "2\n",
      "Pizza\n",
      "4\n",
      "Time\n",
      "Pizza\n",
      "7\n",
      "8\n",
      "Pizza\n",
      "Time\n",
      "11\n",
      "Pizza\n",
      "13\n",
      "14\n",
      "PizzaTime\n"
     ]
    }
   ],
   "source": [
    "# Given an integer, define a function which takes each number between 1 and the given integer and:\n",
    "\n",
    "# print \"Pizza\" if the number is dividable by 3\n",
    "# print \"Time\" if the number is dividable by 5\n",
    "# print \"PizzaTime\" if th number is dividable by 3 and by 5\n",
    "# print the number otherwise.\n",
    "\n",
    "def pizza_time(number):\n",
    "    # Code the rest of the function below\n",
    "    for i in range(1, number + 1):\n",
    "        if i%3 == 0 and i%5 == 0:\n",
    "            print(\"PizzaTime\")\n",
    "        elif i%3 == 0:\n",
    "            print(\"Pizza\")\n",
    "        elif i%5 == 0:\n",
    "            print(\"Time\")\n",
    "        else :\n",
    "            print(i)\n",
    "    return;\n",
    "\n",
    "pizza_time(15)"
   ]
  },
  {
   "cell_type": "code",
   "execution_count": 12,
   "metadata": {},
   "outputs": [
    {
     "name": "stdout",
     "output_type": "stream",
     "text": [
      "True\n"
     ]
    }
   ],
   "source": [
    "class Car():\n",
    "    def __init__(self, brand, color):\n",
    "        self.brand = brand\n",
    "        self.color = color\n",
    "        self.engine_started = False\n",
    "\n",
    "    def start_engine(self):\n",
    "        self.engine_started = True\n",
    "\n",
    "    def stop_engine(self):\n",
    "        self.engine_started = False\n",
    "\n",
    "# Given the code above, how do you instantiate a new Car (red ferrari), and store it in a variable called ferrari?\n",
    "# Instantiate a new Car\n",
    "ferrari = Car(\"ferrari\",\"red\")\n",
    "\n",
    "# How would you start the car (using your variable ferrari)?\n",
    "# Start the car\n",
    "ferrari.start_engine()\n",
    "\n",
    "# How would you check that the car is started ?\n",
    "# Print the value of `engine_started`\n",
    "print(ferrari.engine_started)"
   ]
  },
  {
   "cell_type": "code",
   "execution_count": 131,
   "metadata": {},
   "outputs": [
    {
     "name": "stdout",
     "output_type": "stream",
     "text": [
      "Ferrari's initial color : red\n",
      "Ferrari's new color : blue\n"
     ]
    }
   ],
   "source": [
    "class Car():\n",
    "    def __init__(self, brand, color):\n",
    "        self.brand = brand\n",
    "        self.color = color\n",
    "        self.engine_started = False\n",
    "\n",
    "    def start_engine(self):\n",
    "        self.engine_started = True\n",
    "        \n",
    "    def stop_engine(self):\n",
    "        self.engine_started = False\n",
    "\n",
    "    # Add a method below to change the color of a car\n",
    "    @staticmethod\n",
    "    def paint(brand, color):\n",
    "        newColor = Car(brand, color)\n",
    "        return newColor\n",
    "\n",
    "# Instantiate a red car and change it to blue\n",
    "ferrari = Car(\"ferrari\",\"red\")\n",
    "print(\"Ferrari's initial color :\", ferrari.color)\n",
    "ferrari = Car.paint(\"ferrari\", \"blue\")\n",
    "print(\"Ferrari's new color :\", ferrari.color)"
   ]
  },
  {
   "cell_type": "code",
   "execution_count": 6,
   "metadata": {},
   "outputs": [
    {
     "name": "stdout",
     "output_type": "stream",
     "text": [
      "total num of cars = 2\n",
      "total num of cars = 2\n",
      "kmph =  40.0\n"
     ]
    }
   ],
   "source": [
    "class Car:\n",
    "    total=0\n",
    "    def __init__(self, color, brand, numdoors):\n",
    "        self.color = color \n",
    "        self.brand = brand\n",
    "        self.numdoors = numdoors\n",
    "        self.speed = 0\n",
    "        Car.total+=1\n",
    "\n",
    "    def __str__(self):\n",
    "        return f'{self.color},{self.brand},{self.numdoors}'\n",
    "\n",
    "    def start(self):\n",
    "        print (\"car started\")\n",
    "\n",
    "    def stop(self):\n",
    "        print (\"car stopped\")\n",
    "\n",
    "    def accelerate(self, speed):\n",
    "        self.speed += speed\n",
    "        print(\"accelerated \"+str(speed)+\" mph\")\n",
    "\n",
    "    def current_speed(self):\n",
    "        print(\"current speed of \"+str(self)+\" is \",self.speed)\n",
    "\n",
    "    def deaccelerate(self):\n",
    "        print(\"deaccelerate\")\n",
    "\n",
    "    @classmethod\n",
    "    def total_num_of_cars(cls):\n",
    "        print('total num of cars =', cls.total)\n",
    "\n",
    "    @staticmethod\n",
    "    def mph_to_kmph(mph):\n",
    "        print(\"kmph = \", mph*1.6 )\n",
    "    \n",
    "    \n",
    "mycar = Car(\"white\",\"VW\",5)\n",
    "mycar2 = Car(\"white\",\"VW2\",5)\n",
    "Car.total_num_of_cars()\n",
    "mycar.total_num_of_cars()\n",
    "mycar.mph_to_kmph(25)"
   ]
  },
  {
   "cell_type": "code",
   "execution_count": null,
   "metadata": {},
   "outputs": [],
   "source": []
  }
 ],
 "metadata": {
  "kernelspec": {
   "display_name": "Python 3",
   "language": "python",
   "name": "python3"
  },
  "language_info": {
   "codemirror_mode": {
    "name": "ipython",
    "version": 3
   },
   "file_extension": ".py",
   "mimetype": "text/x-python",
   "name": "python",
   "nbconvert_exporter": "python",
   "pygments_lexer": "ipython3",
   "version": "3.8.5"
  }
 },
 "nbformat": 4,
 "nbformat_minor": 4
}
