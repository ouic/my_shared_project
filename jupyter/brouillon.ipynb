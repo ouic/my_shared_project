{
 "cells": [
  {
   "cell_type": "code",
   "execution_count": 111,
   "metadata": {},
   "outputs": [
    {
     "name": "stdout",
     "output_type": "stream",
     "text": [
      "100USDEUR\n"
     ]
    }
   ],
   "source": [
    "RATES = {\"EURCHF\": 1.16, \"CHFEUR\": 0.86, \"EURGBP\": 0.86, \"GBPEUR\": 1.16, \"GBPCHF\": 1.28, \"CHFGBP\": 0.78, \"USDEUR\": 0.85, \"EURUSD\": 1.22, \"GBPEUR\": 1.13, \"CHFEUR\": 0.86, \"EURGBP\": 0.885}\n",
    "amount = (100, \"USD\")\n",
    "currency = \"EUR\"\n",
    "\n",
    "request = ''.join(e for e in str(amount) if e.isalnum()) + currency\n",
    "\n",
    "print(request)"
   ]
  },
  {
   "cell_type": "code",
   "execution_count": 114,
   "metadata": {},
   "outputs": [
    {
     "name": "stdout",
     "output_type": "stream",
     "text": [
      "200 CHF = 172.0 EUR\n"
     ]
    }
   ],
   "source": [
    "RATES = {\"EURCHF\": 1.16, \"CHFEUR\": 0.86, \"EURGBP\": 0.86, \"GBPEUR\": 1.16, \"GBPCHF\": 1.28, \"CHFGBP\": 0.78, \"USDEUR\": 0.85, \"EURUSD\": 1.22, \"GBPEUR\": 1.13, \"CHFEUR\": 0.86, \"EURGBP\": 0.885}\n",
    "\n",
    "def convert(amount, currency):\n",
    "    \"\"\"returns the converted amount in the given currency\n",
    "    amount is a tuple like (100, \"EUR\")\n",
    "    currency is a string\n",
    "    \"\"\"\n",
    "    request = ''.join(e for e in str(amount) if e.isalnum()) + currency\n",
    "    if request[-6:] in RATES.keys():\n",
    "        print(f\"{request[:3]} {request[3:6]} = {int(request[:3]) * RATES.get(request[-6:])} {request[6:]}\")\n",
    "    else:\n",
    "        return None\n",
    "\n",
    "convert((200, \"CHF\"), \"EUR\")"
   ]
  },
  {
   "cell_type": "code",
   "execution_count": 1,
   "metadata": {},
   "outputs": [
    {
     "data": {
      "text/plain": [
       "338"
      ]
     },
     "execution_count": 1,
     "metadata": {},
     "output_type": "execute_result"
    }
   ],
   "source": [
    "RATES = {\"EURCHF\": 1.16, \"GBPCHF\": 1.28, \"CHFGBP\": 0.78, \"USDEUR\": 0.85, \"EURUSD\": 1.22, \"GBPEUR\": 1.13, \"CHFEUR\": 0.86, \"EURGBP\": 0.885}\n",
    "\n",
    "def convert(amount, currency):\n",
    "    \"\"\"returns the converted amount in the given currency\n",
    "    amount is a tuple like (100, \"EUR\")\n",
    "    currency is a string\n",
    "    \"\"\"\n",
    "    request = ''.join(e for e in str(amount) if e.isalnum()) + currency\n",
    "    if request[-6:] in RATES.keys():\n",
    "        return int(int(request[:3]) * RATES.get(request[-6:]))\n",
    "    else:\n",
    "        return None\n",
    "\n",
    "convert((300, \"GBP\"), \"EUR\")"
   ]
  },
  {
   "cell_type": "code",
   "execution_count": null,
   "metadata": {},
   "outputs": [],
   "source": []
  }
 ],
 "metadata": {
  "kernelspec": {
   "display_name": "Python 3",
   "language": "python",
   "name": "python3"
  },
  "language_info": {
   "codemirror_mode": {
    "name": "ipython",
    "version": 3
   },
   "file_extension": ".py",
   "mimetype": "text/x-python",
   "name": "python",
   "nbconvert_exporter": "python",
   "pygments_lexer": "ipython3",
   "version": "3.8.5"
  }
 },
 "nbformat": 4,
 "nbformat_minor": 4
}
