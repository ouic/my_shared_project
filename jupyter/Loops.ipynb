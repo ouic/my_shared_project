{
 "cells": [
  {
   "cell_type": "code",
   "execution_count": 2,
   "metadata": {},
   "outputs": [
    {
     "name": "stdout",
     "output_type": "stream",
     "text": [
      "7\n",
      "2\n",
      "4\n",
      "10\n"
     ]
    }
   ],
   "source": [
    "myList = [7,2,4,10]\n",
    "\n",
    "for elt in myList:\n",
    "    print(elt)"
   ]
  },
  {
   "cell_type": "code",
   "execution_count": 3,
   "metadata": {},
   "outputs": [
    {
     "name": "stdout",
     "output_type": "stream",
     "text": [
      "E\n",
      "l\n",
      "é\n",
      "m\n",
      "e\n",
      "n\n",
      "t\n",
      "s\n"
     ]
    }
   ],
   "source": [
    "monString = \"Eléments\"\n",
    "\n",
    "for elt in monString:\n",
    "    print(elt)"
   ]
  },
  {
   "cell_type": "code",
   "execution_count": 9,
   "metadata": {},
   "outputs": [
    {
     "name": "stdout",
     "output_type": "stream",
     "text": [
      "0\n",
      "1\n",
      "2\n",
      "3\n",
      "4\n",
      "\n",
      "0\n",
      "1\n",
      "2\n",
      "3\n",
      "4\n",
      "\n",
      "0\n",
      "1\n",
      "2\n",
      "3\n",
      "4\n",
      "\n",
      "0\n",
      "2\n",
      "4\n",
      "\n"
     ]
    }
   ],
   "source": [
    "for i in range(0, 5, 1):\n",
    "    print(i) # -> affiche de 0 à 4 par pas de 1 (fin - 1)\n",
    "print(\"\")\n",
    "\n",
    "for i in range(0, 5):\n",
    "    print(i) # -> affiche de 0 à 4 également (le pas par défaut est 1)\n",
    "print(\"\")\n",
    "\n",
    "for i in range(5):\n",
    "    print(i) # -> affiche de 0 à 4 également (le début par défaut est 0)\n",
    "print(\"\")\n",
    "    \n",
    "for i in range(0, 5, 2):\n",
    "    print(i) # -> affiche 0, 2 puis 4\n",
    "print(\"\")"
   ]
  },
  {
   "cell_type": "code",
   "execution_count": 10,
   "metadata": {},
   "outputs": [
    {
     "ename": "SyntaxError",
     "evalue": "unexpected EOF while parsing (<ipython-input-10-54dca4426fd6>, line 2)",
     "output_type": "error",
     "traceback": [
      "\u001b[1;36m  File \u001b[1;32m\"<ipython-input-10-54dca4426fd6>\"\u001b[1;36m, line \u001b[1;32m2\u001b[0m\n\u001b[1;33m    # bloc à exécuter\u001b[0m\n\u001b[1;37m                     ^\u001b[0m\n\u001b[1;31mSyntaxError\u001b[0m\u001b[1;31m:\u001b[0m unexpected EOF while parsing\n"
     ]
    }
   ],
   "source": [
    "while expressionLogique:\n",
    "    # bloc à exécuter"
   ]
  },
  {
   "cell_type": "code",
   "execution_count": 11,
   "metadata": {},
   "outputs": [
    {
     "name": "stdout",
     "output_type": "stream",
     "text": [
      "J'ai planté 1 arbres\n",
      "J'ai planté 2 arbres\n",
      "J'ai planté 3 arbres\n",
      "J'ai planté 4 arbres\n",
      "J'ai planté 5 arbres\n",
      "J'ai planté 6 arbres\n",
      "J'ai planté 7 arbres\n",
      "J'ai planté 8 arbres\n",
      "J'ai planté 9 arbres\n",
      "J'ai planté 10 arbres\n",
      "J'ai une chouette forêt !\n"
     ]
    }
   ],
   "source": [
    "nombreArbres = 0\n",
    "\n",
    "while nombreArbres < 10:\n",
    "    nombreArbres += 1\n",
    "    print(\"J'ai planté\", nombreArbres, \"arbres\")\n",
    "    \n",
    "print(\"J'ai une chouette forêt !\")"
   ]
  },
  {
   "cell_type": "code",
   "execution_count": 13,
   "metadata": {},
   "outputs": [
    {
     "name": "stdout",
     "output_type": "stream",
     "text": [
      "OpenClassRooms est vraiment top !\n",
      "OpenClassRooms est vraiment top !\n",
      "OpenClassRooms est vraiment top !\n",
      "OpenClassRooms est vraiment top !\n",
      "OpenClassRooms est vraiment top !\n",
      " \n",
      "OpenClassRooms est vraiment top !\n",
      "OpenClassRooms est vraiment top !\n",
      "OpenClassRooms est vraiment top !\n",
      "OpenClassRooms est vraiment top !\n",
      "OpenClassRooms est vraiment top !\n"
     ]
    }
   ],
   "source": [
    "# TODO étape 1 - Créez une boucle for qui va afficher : 'OpenClassRooms est vraiment top !' 5 fois\n",
    "for i in range(5):\n",
    "    print('OpenClassRooms est vraiment top !')\n",
    "\n",
    "print(\" \")\n",
    "# TODO étape 2 - Changez votre boucle for par une boucle while. Est-ce une bonne idée ?\n",
    "variable = 0\n",
    "while variable < 5:\n",
    "    variable += 1\n",
    "    print('OpenClassRooms est vraiment top !')\n"
   ]
  },
  {
   "cell_type": "code",
   "execution_count": 14,
   "metadata": {},
   "outputs": [
    {
     "name": "stdout",
     "output_type": "stream",
     "text": [
      "0\n",
      "i != 2 & i != 5\n",
      "1\n",
      "i != 2 & i != 5\n",
      "2\n",
      "Cas spécial\n",
      "3\n",
      "i != 2 & i != 5\n",
      "4\n",
      "i != 2 & i != 5\n",
      "5\n",
      "Cas spécial\n",
      "6\n",
      "i != 2 & i != 5\n",
      "7\n",
      "i != 2 & i != 5\n",
      "8\n",
      "i != 2 & i != 5\n",
      "9\n",
      "i != 2 & i != 5\n"
     ]
    }
   ],
   "source": [
    "for i in range(10):\n",
    "    # instructions réalisées à chaque itération\n",
    "    print(i)\n",
    "    if (i == 2) or (i == 5):\n",
    "        print(\"Cas spécial\")\n",
    "        continue \n",
    "    # instructions non exécutées si i == 2 or 5 \n",
    "    print(\"i != 2 & i != 5\")\n"
   ]
  },
  {
   "cell_type": "code",
   "execution_count": null,
   "metadata": {},
   "outputs": [],
   "source": [
    "# interrompre la boucle, lorsque par exemple on cherche un élément particulier dans une liste\n",
    "panier = [\"pomme\", \"orange\", \"banane\"]\n",
    "\n",
    "for fruit in panier:\n",
    "    if fruit == \"orange\":\n",
    "        print(\"J'ai une\", fruit, \"!\")\n",
    "        break"
   ]
  },
  {
   "cell_type": "code",
   "execution_count": 1,
   "metadata": {},
   "outputs": [
    {
     "name": "stdout",
     "output_type": "stream",
     "text": [
      "0\n",
      "1\n",
      "1\n",
      "2\n",
      "3\n",
      "5\n",
      "8\n"
     ]
    }
   ],
   "source": [
    "# Fibonacci series:\n",
    "# the sum of two elements defines the next\n",
    "a, b = 0, 1 # a and b simultaneously get the new values 0 and 1\n",
    "while a < 10:\n",
    "    print(a)\n",
    "    a, b = b, a+b"
   ]
  },
  {
   "cell_type": "code",
   "execution_count": 2,
   "metadata": {},
   "outputs": [
    {
     "name": "stdout",
     "output_type": "stream",
     "text": [
      "0,1,1,2,3,5,8,13,21,34,55,89,144,233,377,610,987,"
     ]
    }
   ],
   "source": [
    "# \"end\" can be used to avoid the newline after the output, or end the output with a different string\n",
    "a, b = 0, 1\n",
    "while a < 1000:\n",
    "    print(a, end=',')\n",
    "    a, b = b, a+b"
   ]
  },
  {
   "cell_type": "code",
   "execution_count": null,
   "metadata": {},
   "outputs": [],
   "source": []
  }
 ],
 "metadata": {
  "kernelspec": {
   "display_name": "Python 3",
   "language": "python",
   "name": "python3"
  },
  "language_info": {
   "codemirror_mode": {
    "name": "ipython",
    "version": 3
   },
   "file_extension": ".py",
   "mimetype": "text/x-python",
   "name": "python",
   "nbconvert_exporter": "python",
   "pygments_lexer": "ipython3",
   "version": "3.8.5"
  }
 },
 "nbformat": 4,
 "nbformat_minor": 4
}
