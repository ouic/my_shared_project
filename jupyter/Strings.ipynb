{
 "cells": [
  {
   "cell_type": "code",
   "execution_count": 2,
   "metadata": {},
   "outputs": [
    {
     "data": {
      "text/plain": [
       "'Zophie the cat'"
      ]
     },
     "execution_count": 2,
     "metadata": {},
     "output_type": "execute_result"
    }
   ],
   "source": [
    "# modify string = create new string\n",
    "name = 'Zophie a cat'\n",
    "newName = name[0:7] + 'the' + name[8:12]\n",
    "newName"
   ]
  },
  {
   "cell_type": "code",
   "execution_count": 4,
   "metadata": {},
   "outputs": [
    {
     "data": {
      "text/plain": [
       "['h', 'e', 'l', 'l', 'o']"
      ]
     },
     "execution_count": 4,
     "metadata": {},
     "output_type": "execute_result"
    }
   ],
   "source": [
    "# converts a string in list\n",
    "list('hello')"
   ]
  },
  {
   "cell_type": "code",
   "execution_count": 1,
   "metadata": {},
   "outputs": [
    {
     "name": "stdout",
     "output_type": "stream",
     "text": [
      "ceci est un test avec un \tTAB au milieu\n"
     ]
    }
   ],
   "source": [
    "# TAB\n",
    "print('ceci est un test avec un \\tTAB au milieu')"
   ]
  },
  {
   "cell_type": "code",
   "execution_count": 3,
   "metadata": {},
   "outputs": [
    {
     "name": "stdout",
     "output_type": "stream",
     "text": [
      "ceci est un test avec \n",
      "une nouvelle ligne\n"
     ]
    }
   ],
   "source": [
    "# new line\n",
    "print('ceci est un test avec \\nune nouvelle ligne')"
   ]
  },
  {
   "cell_type": "code",
   "execution_count": 5,
   "metadata": {},
   "outputs": [
    {
     "name": "stdout",
     "output_type": "stream",
     "text": [
      "ceci est un test avec un backslash \\\n"
     ]
    }
   ],
   "source": [
    "# antislash\n",
    "print('ceci est un test avec un backslash \\\\')"
   ]
  },
  {
   "cell_type": "code",
   "execution_count": 6,
   "metadata": {},
   "outputs": [
    {
     "name": "stdout",
     "output_type": "stream",
     "text": [
      "That is Carol\\'s cat.\n"
     ]
    }
   ],
   "source": [
    "# Raw Strings\n",
    "print(r'That is Carol\\'s cat.')"
   ]
  },
  {
   "cell_type": "code",
   "execution_count": 7,
   "metadata": {},
   "outputs": [
    {
     "name": "stdout",
     "output_type": "stream",
     "text": [
      "Dear Alice,\n",
      "\n",
      "Eve's cat has been arrested for catnapping, cat burglary, and extortion.\n",
      "\n",
      "Sincerely,\n",
      "Bob\n"
     ]
    }
   ],
   "source": [
    "# Multiline Strings with Triple Quotes\n",
    "print('''Dear Alice,\n",
    "\n",
    "Eve's cat has been arrested for catnapping, cat burglary, and extortion.\n",
    "\n",
    "Sincerely,\n",
    "Bob''')"
   ]
  },
  {
   "cell_type": "code",
   "execution_count": 11,
   "metadata": {},
   "outputs": [],
   "source": [
    "\"\"\"This is a test Python program.\n",
    "Written by Al Sweigart al@inventwithpython.com\n",
    "\n",
    "This program was designed for Python 3, not Python 2.\n",
    "\"\"\"\n",
    "\n",
    "def spam():\n",
    "    \"\"\"This is a multiline comment to help\n",
    "    explain what the spam() function does.\"\"\"\n",
    "    print('Hello!')"
   ]
  },
  {
   "cell_type": "code",
   "execution_count": 12,
   "metadata": {},
   "outputs": [
    {
     "data": {
      "text/plain": [
       "'Hello, my name is Eric. I am 41 years old.'"
      ]
     },
     "execution_count": 12,
     "metadata": {},
     "output_type": "execute_result"
    }
   ],
   "source": [
    "name = 'Eric'\n",
    "age = 41\n",
    "'Hello, my name is ' + name + '. I am ' + str(age) + ' years old.'"
   ]
  },
  {
   "cell_type": "code",
   "execution_count": 14,
   "metadata": {},
   "outputs": [
    {
     "data": {
      "text/plain": [
       "'Hello, My name is Eric. I am 41 years old.'"
      ]
     },
     "execution_count": 14,
     "metadata": {},
     "output_type": "execute_result"
    }
   ],
   "source": [
    "name = 'Eric'\n",
    "age = 41\n",
    "'Hello, My name is %s. I am %s years old.' % (name, age)"
   ]
  },
  {
   "cell_type": "code",
   "execution_count": 15,
   "metadata": {},
   "outputs": [
    {
     "data": {
      "text/plain": [
       "'My name is Eric. Next year I will be 42.'"
      ]
     },
     "execution_count": 15,
     "metadata": {},
     "output_type": "execute_result"
    }
   ],
   "source": [
    "name = 'Eric'\n",
    "age = 41\n",
    "f'My name is {name}. Next year I will be {age + 1}.'"
   ]
  },
  {
   "cell_type": "code",
   "execution_count": 17,
   "metadata": {},
   "outputs": [
    {
     "name": "stdout",
     "output_type": "stream",
     "text": [
      "\n",
      "isalpha() Returns True if the string consists only of letters and isn’t blank\n",
      "\n",
      "isalnum() Returns True if the string consists only of letters and numbers and is not blank\n",
      "\n",
      "isdecimal() Returns True if the string consists only of numeric characters and is not blank\n",
      "\n",
      "isspace() Returns True if the string consists only of spaces, tabs, and newlines and is not blank\n",
      "\n",
      "istitle() Returns True if the string consists only of words that begin with an uppercase letter followed by only lowercase letters\n",
      "\n"
     ]
    }
   ],
   "source": [
    "print('''\n",
    "isalpha() Returns True if the string consists only of letters and isn’t blank\n",
    "\n",
    "isalnum() Returns True if the string consists only of letters and numbers and is not blank\n",
    "\n",
    "isdecimal() Returns True if the string consists only of numeric characters and is not blank\n",
    "\n",
    "isspace() Returns True if the string consists only of spaces, tabs, and newlines and is not blank\n",
    "\n",
    "istitle() Returns True if the string consists only of words that begin with an uppercase letter followed by only lowercase letters\n",
    "''')"
   ]
  },
  {
   "cell_type": "code",
   "execution_count": 19,
   "metadata": {},
   "outputs": [
    {
     "name": "stdout",
     "output_type": "stream",
     "text": [
      "Enter your age:\n",
      "dsrtg\n",
      "Please enter a number for your age.\n",
      "Enter your age:\n",
      "41\n",
      "Select a new password (letters and numbers only):\n",
      "test_password\n",
      "Passwords can only have letters and numbers.\n",
      "Select a new password (letters and numbers only):\n",
      "testpassword1234\n"
     ]
    }
   ],
   "source": [
    "while True:\n",
    "    print('Enter your age:')\n",
    "    age = input()\n",
    "    if age.isdecimal():\n",
    "        break\n",
    "    print('Please enter a number for your age.')\n",
    "\n",
    "while True:\n",
    "    print('Select a new password (letters and numbers only):')\n",
    "    password = input()\n",
    "    if password.isalnum():\n",
    "        break\n",
    "    print('Passwords can only have letters and numbers.')"
   ]
  },
  {
   "cell_type": "code",
   "execution_count": 20,
   "metadata": {},
   "outputs": [
    {
     "data": {
      "text/plain": [
       "True"
      ]
     },
     "execution_count": 20,
     "metadata": {},
     "output_type": "execute_result"
    }
   ],
   "source": [
    "# startswith\n",
    "'Hello, world!'.startswith('Hello')"
   ]
  },
  {
   "cell_type": "code",
   "execution_count": 21,
   "metadata": {},
   "outputs": [
    {
     "data": {
      "text/plain": [
       "True"
      ]
     },
     "execution_count": 21,
     "metadata": {},
     "output_type": "execute_result"
    }
   ],
   "source": [
    "# endswith\n",
    "'Hello, world!'.endswith('world!')"
   ]
  },
  {
   "cell_type": "code",
   "execution_count": 26,
   "metadata": {},
   "outputs": [
    {
     "name": "stdout",
     "output_type": "stream",
     "text": [
      "cats, rats, bats\n",
      "My name is Eric\n",
      "MyABCnameABCisABCEric\n"
     ]
    }
   ],
   "source": [
    "# join\n",
    "print(', '.join(['cats', 'rats', 'bats']))\n",
    "print(' '.join(['My', 'name', 'is', 'Eric']))\n",
    "print('ABC'.join(['My', 'name', 'is', 'Eric']))"
   ]
  },
  {
   "cell_type": "code",
   "execution_count": 29,
   "metadata": {},
   "outputs": [
    {
     "name": "stdout",
     "output_type": "stream",
     "text": [
      "['My', 'name', 'is', 'Eric']\n",
      "['Dear Alice,', 'How have you been? I am fine.', 'There is a container in the fridge', 'that is labeled \"Milk Experiment.\"', '', 'Please do not drink it.', 'Sincerely,', 'Bob']\n"
     ]
    }
   ],
   "source": [
    "# split\n",
    "print('MyABCnameABCisABCEric'.split('ABC'))\n",
    "\n",
    "spam = '''Dear Alice,\n",
    "How have you been? I am fine.\n",
    "There is a container in the fridge\n",
    "that is labeled \"Milk Experiment.\"\n",
    "\n",
    "Please do not drink it.\n",
    "Sincerely,\n",
    "Bob'''\n",
    "\n",
    "print(spam.split('\\n'))\n"
   ]
  },
  {
   "cell_type": "code",
   "execution_count": 31,
   "metadata": {},
   "outputs": [
    {
     "name": "stdout",
     "output_type": "stream",
     "text": [
      "('Hello, ', 'w', 'orld!')\n",
      "('Hello, ', 'world', '!')\n",
      "('Hell', 'o', ', world!')\n",
      "Hello,\n",
      "world!\n"
     ]
    }
   ],
   "source": [
    "# partition()\n",
    "print('Hello, world!'.partition('w'))\n",
    "print('Hello, world!'.partition('world'))\n",
    "print('Hello, world!'.partition('o')) #If the separator string you pass to partition() occurs multiple times in the string that partition() calls on, the method splits the string only on the first occurrence\n",
    "\n",
    "# You can use the multiple assignment trick to assign the three returned strings to three variables\n",
    "before, sep, after = 'Hello, world!'.partition(' ')\n",
    "print(before)\n",
    "print(after)"
   ]
  },
  {
   "cell_type": "code",
   "execution_count": 35,
   "metadata": {},
   "outputs": [
    {
     "name": "stdout",
     "output_type": "stream",
     "text": [
      "     Hello\n",
      "               Hello\n",
      "        Hello, World\n",
      "Hello     \n",
      "***************Hello\n",
      "Hello---------------\n",
      "       Hello        \n",
      "=======Hello========\n"
     ]
    }
   ],
   "source": [
    "# Justifying Text with the rjust(), ljust(), and center() Methods\n",
    "print('Hello'.rjust(10))\n",
    "print('Hello'.rjust(20))\n",
    "print('Hello, World'.rjust(20))\n",
    "print('Hello'.ljust(10))\n",
    "print('Hello'.rjust(20, '*'))\n",
    "print('Hello'.ljust(20, '-'))\n",
    "print('Hello'.center(20))\n",
    "print('Hello'.center(20, '='))"
   ]
  },
  {
   "cell_type": "code",
   "execution_count": 37,
   "metadata": {},
   "outputs": [
    {
     "name": "stdout",
     "output_type": "stream",
     "text": [
      "--------PICNIC ITEMS-------\n",
      "sandwiches............    4\n",
      "apples................   12\n",
      "cups..................    4\n",
      "cookies............... 8000\n",
      "------------PICNIC ITEMS------------\n",
      "sandwiches....................     4\n",
      "apples........................    12\n",
      "cups..........................     4\n",
      "cookies.......................  8000\n"
     ]
    }
   ],
   "source": [
    "def printPicnic(itemsDict, leftWidth, rightWidth):\n",
    "    print('PICNIC ITEMS'.center(leftWidth + rightWidth, '-'))\n",
    "    for k, v in itemsDict.items():\n",
    "        print(k.ljust(leftWidth, '.') + str(v).rjust(rightWidth))\n",
    "\n",
    "picnicItems = {'sandwiches': 4, 'apples': 12, 'cups': 4, 'cookies': 8000}\n",
    "printPicnic(picnicItems, 22, 5)\n",
    "printPicnic(picnicItems, 30, 6)"
   ]
  },
  {
   "cell_type": "code",
   "execution_count": 43,
   "metadata": {},
   "outputs": [
    {
     "name": "stdout",
     "output_type": "stream",
     "text": [
      "Hello, World\n",
      "Hello, World    \n",
      "    Hello, World\n",
      "BaconSpamEggs\n"
     ]
    }
   ],
   "source": [
    "# Removing Whitespace with the strip(), rstrip(), and lstrip()\n",
    "spam = '    Hello, World    '\n",
    "print(spam.strip())\n",
    "print(spam.lstrip())\n",
    "print(spam.rstrip())\n",
    "\n",
    "spam = 'SpamSpamBaconSpamEggsSpamSpam'\n",
    "print(spam.strip('ampS')) # strip occurrences of a, m, p, and capital S"
   ]
  },
  {
   "cell_type": "code",
   "execution_count": 47,
   "metadata": {},
   "outputs": [
    {
     "name": "stdout",
     "output_type": "stream",
     "text": [
      "65\n",
      "52\n",
      "33\n",
      "A\n",
      "66\n",
      "True\n",
      "A\n",
      "B\n"
     ]
    }
   ],
   "source": [
    "# Numeric Values of Characters with the ord() and chr() Functions\n",
    "# every text character has a corresponding numeric value called a Unicode code point\n",
    "# convert text to numbers\n",
    "print(ord('A'))\n",
    "print(ord('4'))\n",
    "print(ord('!'))\n",
    "print(chr(65))\n",
    "print(ord('B'))\n",
    "print(ord('A') < ord('B'))\n",
    "print(chr(ord('A')))\n",
    "print(chr(ord('A') + 1))"
   ]
  },
  {
   "cell_type": "code",
   "execution_count": 48,
   "metadata": {},
   "outputs": [
    {
     "ename": "ModuleNotFoundError",
     "evalue": "No module named 'pyperclip'",
     "output_type": "error",
     "traceback": [
      "\u001b[1;31m---------------------------------------------------------------------------\u001b[0m",
      "\u001b[1;31mModuleNotFoundError\u001b[0m                       Traceback (most recent call last)",
      "\u001b[1;32m<ipython-input-48-ab99db7a204d>\u001b[0m in \u001b[0;36m<module>\u001b[1;34m\u001b[0m\n\u001b[0;32m      1\u001b[0m \u001b[1;31m# copy to clipboard & paste\u001b[0m\u001b[1;33m\u001b[0m\u001b[1;33m\u001b[0m\u001b[1;33m\u001b[0m\u001b[0m\n\u001b[1;32m----> 2\u001b[1;33m \u001b[1;32mimport\u001b[0m \u001b[0mpyperclip\u001b[0m\u001b[1;33m\u001b[0m\u001b[1;33m\u001b[0m\u001b[0m\n\u001b[0m\u001b[0;32m      3\u001b[0m \u001b[0mpyperclip\u001b[0m\u001b[1;33m.\u001b[0m\u001b[0mcopy\u001b[0m\u001b[1;33m(\u001b[0m\u001b[1;34m'Hello, world!'\u001b[0m\u001b[1;33m)\u001b[0m\u001b[1;33m\u001b[0m\u001b[1;33m\u001b[0m\u001b[0m\n\u001b[0;32m      4\u001b[0m \u001b[0mpyperclip\u001b[0m\u001b[1;33m.\u001b[0m\u001b[0mpaste\u001b[0m\u001b[1;33m(\u001b[0m\u001b[1;33m)\u001b[0m\u001b[1;33m\u001b[0m\u001b[1;33m\u001b[0m\u001b[0m\n",
      "\u001b[1;31mModuleNotFoundError\u001b[0m: No module named 'pyperclip'"
     ]
    }
   ],
   "source": [
    "# copy to clipboard & paste\n",
    "import pyperclip\n",
    "pyperclip.copy('Hello, world!')\n",
    "pyperclip.paste()"
   ]
  },
  {
   "cell_type": "code",
   "execution_count": null,
   "metadata": {},
   "outputs": [],
   "source": []
  }
 ],
 "metadata": {
  "kernelspec": {
   "display_name": "Python 3",
   "language": "python",
   "name": "python3"
  },
  "language_info": {
   "codemirror_mode": {
    "name": "ipython",
    "version": 3
   },
   "file_extension": ".py",
   "mimetype": "text/x-python",
   "name": "python",
   "nbconvert_exporter": "python",
   "pygments_lexer": "ipython3",
   "version": "3.8.6"
  },
  "toc": {
   "base_numbering": 1,
   "nav_menu": {},
   "number_sections": true,
   "sideBar": true,
   "skip_h1_title": false,
   "title_cell": "Table of Contents",
   "title_sidebar": "Contents",
   "toc_cell": false,
   "toc_position": {},
   "toc_section_display": true,
   "toc_window_display": false
  }
 },
 "nbformat": 4,
 "nbformat_minor": 4
}
