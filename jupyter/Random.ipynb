{
 "cells": [
  {
   "cell_type": "code",
   "execution_count": 3,
   "metadata": {},
   "outputs": [],
   "source": [
    "import random"
   ]
  },
  {
   "cell_type": "code",
   "execution_count": 5,
   "metadata": {},
   "outputs": [
    {
     "name": "stdout",
     "output_type": "stream",
     "text": [
      "0.8136965430866777\n",
      "0.08145805454658162\n",
      "0.5194675070082376\n"
     ]
    }
   ],
   "source": [
    "for i in range(3):\n",
    "    print(random.random())"
   ]
  },
  {
   "cell_type": "code",
   "execution_count": 4,
   "metadata": {},
   "outputs": [
    {
     "name": "stdout",
     "output_type": "stream",
     "text": [
      "Exemple de la fonction uniform :\n",
      "7.618245517308758\n",
      "8.056133130203582\n",
      "8.091254772299422\n",
      "___________________________\n",
      "Exemple de la fonction randint :\n",
      "6\n",
      "7\n",
      "10\n"
     ]
    }
   ],
   "source": [
    "# générer un float aléatoire compris entre  a  et  b\n",
    "print('Exemple de la fonction uniform :')\n",
    "for i in range(3):\n",
    "    print(random.uniform(5, 10))\n",
    "\n",
    "print('___________________________')\n",
    "# générer un int aléatoire compris entre  a  et  b\n",
    "print('Exemple de la fonction randint :')\n",
    "for i in range(3):\n",
    "    print(random.randint(5, 10))"
   ]
  },
  {
   "cell_type": "code",
   "execution_count": 11,
   "metadata": {},
   "outputs": [
    {
     "name": "stdout",
     "output_type": "stream",
     "text": [
      "0.19212233875176368\n",
      "-0.3971732626419119\n",
      "-0.506876111067843\n",
      "-0.5478158105068364\n",
      "-1.076060371947723\n",
      "1.0812762758838228\n",
      "0.27562599384830405\n",
      "1.6239544136278976\n",
      "0.6442246421573855\n",
      "1.2256354908543368\n"
     ]
    }
   ],
   "source": [
    "# Générez un nombre aléatoire selon une distribution donnée\n",
    "# exemple avec une loi centrée en 0 et avec un écart-type de 1 (loi normale \"classique\")\n",
    "for i in range(10):\n",
    "    print(random.gauss(0, 1))\n",
    "# avec 10 valeurs, la majorité des valeurs sont proches de 0"
   ]
  },
  {
   "cell_type": "code",
   "execution_count": 12,
   "metadata": {},
   "outputs": [],
   "source": [
    "# Choisissez aléatoirement dans une liste : sous-échantillonnage\n",
    "import numpy.random as random"
   ]
  },
  {
   "cell_type": "code",
   "execution_count": null,
   "metadata": {},
   "outputs": [],
   "source": []
  }
 ],
 "metadata": {
  "kernelspec": {
   "display_name": "Python 3",
   "language": "python",
   "name": "python3"
  },
  "language_info": {
   "codemirror_mode": {
    "name": "ipython",
    "version": 3
   },
   "file_extension": ".py",
   "mimetype": "text/x-python",
   "name": "python",
   "nbconvert_exporter": "python",
   "pygments_lexer": "ipython3",
   "version": "3.8.5"
  }
 },
 "nbformat": 4,
 "nbformat_minor": 4
}
