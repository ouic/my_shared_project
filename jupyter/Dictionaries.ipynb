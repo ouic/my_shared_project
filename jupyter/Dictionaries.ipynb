{
 "cells": [
  {
   "cell_type": "code",
   "execution_count": 5,
   "metadata": {},
   "outputs": [
    {
     "name": "stdout",
     "output_type": "stream",
     "text": [
      "Enter a name: (blank to quit)\n",
      "Alice\n",
      "Apr 1 is the birthday of Alice\n",
      "Enter a name: (blank to quit)\n",
      "Eric\n",
      "I do not have birthday information for Eric\n",
      "What is their birthday?\n",
      "Apr 21\n",
      "Birthday database updated.\n",
      "Enter a name: (blank to quit)\n",
      "Eric\n",
      "Apr 21 is the birthday of Eric\n",
      "Enter a name: (blank to quit)\n",
      "\n"
     ]
    }
   ],
   "source": [
    "# anniversaires\n",
    "birthdays = {'Alice': 'Apr 1', 'Bob': 'Dec 12', 'Carol': 'Mar 4'}\n",
    "\n",
    "while True:\n",
    "    print('Enter a name: (blank to quit)')\n",
    "    name = input()\n",
    "    if name == '':\n",
    "        break\n",
    "    if name in birthdays:\n",
    "        print(birthdays[name] + ' is the birthday of ' + name)\n",
    "    else:\n",
    "        print('I do not have birthday information for ' + name)\n",
    "        print('What is their birthday?')\n",
    "        bday = input()\n",
    "        birthdays[name] = bday\n",
    "        print('Birthday database updated.')"
   ]
  },
  {
   "cell_type": "code",
   "execution_count": 6,
   "metadata": {},
   "outputs": [
    {
     "name": "stdout",
     "output_type": "stream",
     "text": [
      "red\n",
      "42\n"
     ]
    }
   ],
   "source": [
    "# values\n",
    "spam = {'color': 'red', 'age': 42}\n",
    "for v in spam.values():\n",
    "    print(v)"
   ]
  },
  {
   "cell_type": "code",
   "execution_count": 7,
   "metadata": {},
   "outputs": [
    {
     "name": "stdout",
     "output_type": "stream",
     "text": [
      "color\n",
      "age\n"
     ]
    }
   ],
   "source": [
    "# keys\n",
    "spam = {'color': 'red', 'age': 42}\n",
    "for k in spam.keys():\n",
    "    print(k)"
   ]
  },
  {
   "cell_type": "code",
   "execution_count": 13,
   "metadata": {},
   "outputs": [
    {
     "name": "stdout",
     "output_type": "stream",
     "text": [
      "('color', 'red')\n",
      "('age', 42)\n"
     ]
    }
   ],
   "source": [
    "# items\n",
    "spam = {'color': 'red', 'age': 42}\n",
    "for i in spam.items():\n",
    "    print(i)"
   ]
  },
  {
   "cell_type": "code",
   "execution_count": 19,
   "metadata": {},
   "outputs": [
    {
     "name": "stdout",
     "output_type": "stream",
     "text": [
      "['color', 'age']\n",
      "['red', 42]\n",
      "[('color', 'red'), ('age', 42)]\n"
     ]
    }
   ],
   "source": [
    "# récupérer une liste d'un dictionnaire\n",
    "spam = {'color': 'red', 'age': 42}\n",
    "print(list(spam.keys()))\n",
    "print(list(spam.values()))\n",
    "print(list(spam.items()))"
   ]
  },
  {
   "cell_type": "code",
   "execution_count": 22,
   "metadata": {},
   "outputs": [
    {
     "name": "stdout",
     "output_type": "stream",
     "text": [
      "Key: color -> Value: red\n",
      "Key: age -> Value: 42\n"
     ]
    }
   ],
   "source": [
    "# afficher un dictionnaire\n",
    "spam = {'color': 'red', 'age': 42}\n",
    "for key, value in spam.items():\n",
    "    print('Key: ' + key + ' -> Value: ' + str(value))"
   ]
  },
  {
   "cell_type": "code",
   "execution_count": 30,
   "metadata": {},
   "outputs": [
    {
     "name": "stdout",
     "output_type": "stream",
     "text": [
      "True\n",
      "True\n",
      "True\n",
      "False\n",
      "True\n",
      "False\n"
     ]
    }
   ],
   "source": [
    "# chercher si key ou Value est présente dans dictionnaire\n",
    "spam = {'name': 'Zophie', 'age': 7}\n",
    "print('name' in spam.keys()) # -> true\n",
    "print('Zophie' in spam.values()) # -> true\n",
    "print(7 in spam.values()) # -> true\n",
    "print('color' in spam.keys()) # -> false\n",
    "print('color' not in spam.keys()) # -> true\n",
    "print('color' in spam) # -> false      shorter version of writing 'color' in spam.keys()"
   ]
  },
  {
   "cell_type": "code",
   "execution_count": 32,
   "metadata": {},
   "outputs": [
    {
     "name": "stdout",
     "output_type": "stream",
     "text": [
      "I am bringing 2 cups.\n",
      "I am bringing 0 eggs.\n",
      "I am bringing 5 apples.\n"
     ]
    }
   ],
   "source": [
    "# get()\n",
    "picnicItems = {'apples': 5, 'cups': 2}\n",
    "print('I am bringing ' + str(picnicItems.get('cups', 0)) + ' cups.')\n",
    "print('I am bringing ' + str(picnicItems.get('eggs', 0)) + ' eggs.')\n",
    "print('I am bringing ' + str(picnicItems.get('apples', 0)) + ' apples.')"
   ]
  },
  {
   "cell_type": "code",
   "execution_count": 34,
   "metadata": {},
   "outputs": [
    {
     "name": "stdout",
     "output_type": "stream",
     "text": [
      "{'name': 'Pooka', 'age': 5, 'color': 'black'}\n",
      "{'name': 'Pooka', 'age': 5, 'color': 'black'}\n"
     ]
    }
   ],
   "source": [
    "# créer un item dans dictionnaire, seulement si la key n'existe pas\n",
    "spam = {'name': 'Pooka', 'age': 5}\n",
    "spam.setdefault('color', 'black') # on ajoute la couleur noire\n",
    "print(spam)\n",
    "spam.setdefault('color', 'white') # on ajoute la couleur blanche, mais elle reste noire puisque la key existe déjà\n",
    "print(spam)"
   ]
  },
  {
   "cell_type": "code",
   "execution_count": 36,
   "metadata": {},
   "outputs": [
    {
     "name": "stdout",
     "output_type": "stream",
     "text": [
      "{'I': 1, 't': 6, ' ': 13, 'w': 2, 'a': 4, 's': 3, 'b': 1, 'r': 5, 'i': 6, 'g': 2, 'h': 3, 'c': 3, 'o': 2, 'l': 3, 'd': 3, 'y': 1, 'n': 4, 'A': 1, 'p': 1, ',': 1, 'e': 5, 'k': 2, '.': 1}\n"
     ]
    }
   ],
   "source": [
    "# conpter le nombre d'occurences de chaque lettre dans une phrase\n",
    "message = 'It was a bright cold day in April, and the clocks were striking thirteen.'\n",
    "count = {}\n",
    "\n",
    "for character in message:\n",
    "    count.setdefault(character, 0)\n",
    "    count[character] = count[character] + 1\n",
    "\n",
    "print(count)   "
   ]
  },
  {
   "cell_type": "code",
   "execution_count": 39,
   "metadata": {},
   "outputs": [
    {
     "name": "stdout",
     "output_type": "stream",
     "text": [
      "{' ': 13,\n",
      " ',': 1,\n",
      " '.': 1,\n",
      " 'A': 1,\n",
      " 'I': 1,\n",
      " 'a': 4,\n",
      " 'b': 1,\n",
      " 'c': 3,\n",
      " 'd': 3,\n",
      " 'e': 5,\n",
      " 'g': 2,\n",
      " 'h': 3,\n",
      " 'i': 6,\n",
      " 'k': 2,\n",
      " 'l': 3,\n",
      " 'n': 4,\n",
      " 'o': 2,\n",
      " 'p': 1,\n",
      " 'r': 5,\n",
      " 's': 3,\n",
      " 't': 6,\n",
      " 'w': 2,\n",
      " 'y': 1}\n"
     ]
    }
   ],
   "source": [
    "# Pretty Printing\n",
    "import pprint\n",
    "message = 'It was a bright cold day in April, and the clocks were striking thirteen.'\n",
    "count = {}\n",
    "\n",
    "for character in message:\n",
    "    count.setdefault(character, 0)\n",
    "    count[character] = count[character] + 1\n",
    "\n",
    "pprint.pprint(count)"
   ]
  },
  {
   "cell_type": "code",
   "execution_count": null,
   "metadata": {},
   "outputs": [
    {
     "name": "stdout",
     "output_type": "stream",
     "text": [
      " | | \n",
      "-+-+-\n",
      " | | \n",
      "-+-+-\n",
      " | | \n",
      "C'est le tour du joueur X. Quelle case choisissez-vous?\n",
      "haut-G   haut-M   haut-D\n",
      "milieu-G milieu-M milieu-D\n",
      "bas-G    bas-M    bas-D\n"
     ]
    }
   ],
   "source": [
    "# morpion\n",
    "theBoard = {'haut-G': ' ', 'haut-M': ' ', 'haut-D': ' ', 'milieu-G': ' ', 'milieu-M': ' ', 'milieu-D': ' ', 'bas-G': ' ', 'bas-M': ' ', 'bas-D': ' '}\n",
    "\n",
    "def printBoard(board):\n",
    "    print(board['haut-G'] + '|' + board['haut-M'] + '|' + board['haut-D'])\n",
    "    print('-+-+-')\n",
    "    print(board['milieu-G'] + '|' + board['milieu-M'] + '|' + board['milieu-D'])\n",
    "    print('-+-+-')\n",
    "    print(board['bas-G'] + '|' + board['bas-M'] + '|' + board['bas-D'])\n",
    "turn = 'X'\n",
    "for i in range(9):\n",
    "    printBoard(theBoard)\n",
    "    print(\"C'est le tour du joueur \" + turn + '. Quelle case choisissez-vous?\\nhaut-G   haut-M   haut-D\\nmilieu-G milieu-M milieu-D\\nbas-G    bas-M    bas-D')\n",
    "    move = input()\n",
    "    theBoard[move] = turn\n",
    "    if turn == 'X':\n",
    "        turn = 'O'\n",
    "    else:\n",
    "        turn = 'X'\n",
    "printBoard(theBoard)"
   ]
  },
  {
   "cell_type": "code",
   "execution_count": null,
   "metadata": {},
   "outputs": [],
   "source": []
  }
 ],
 "metadata": {
  "kernelspec": {
   "display_name": "Python 3",
   "language": "python",
   "name": "python3"
  },
  "language_info": {
   "codemirror_mode": {
    "name": "ipython",
    "version": 3
   },
   "file_extension": ".py",
   "mimetype": "text/x-python",
   "name": "python",
   "nbconvert_exporter": "python",
   "pygments_lexer": "ipython3",
   "version": "3.8.5"
  }
 },
 "nbformat": 4,
 "nbformat_minor": 4
}
