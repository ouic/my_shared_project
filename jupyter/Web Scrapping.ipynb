{
 "cells": [
  {
   "cell_type": "markdown",
   "metadata": {},
   "source": [
    "You need the `BeautifulSoup` package and some front-end development knowledge (DOM, CSS selectors, etc.)"
   ]
  },
  {
   "cell_type": "code",
   "execution_count": null,
   "metadata": {},
   "outputs": [],
   "source": [
    "use CTRL + U to inspect web page source code"
   ]
  },
  {
   "cell_type": "code",
   "execution_count": null,
   "metadata": {},
   "outputs": [],
   "source": [
    "import requests\n",
    "from bs4 import BeautifulSoup\n",
    "\n",
    "response = requests.get(url)\n",
    "soup = BeautifulSoup(response.content, \"html.parser\")\n",
    "\n",
    "# You can  now query the `soup` object\n",
    "soup.title.string\n",
    "soup.find('h1')\n",
    "soup.find_all('a')\n",
    "paragraph = soup.find(\"p\")\n",
    "articles = soup.find_all(\"article\")\n",
    "# <a href=\"https://www.lewagon.com\" id=\"wagon\">Le Wagon</a>\n",
    "item = soup.find(id=\"wagon\")\n",
    "items = soup.find_all(\"li\", class_=\"pizza\")"
   ]
  },
  {
   "cell_type": "code",
   "execution_count": 2,
   "metadata": {},
   "outputs": [
    {
     "name": "stdout",
     "output_type": "stream",
     "text": [
      "[{'title': 'The Godfather', 'duration': 175}, {'title': \"Schindler's List\", 'duration': 195}]\n"
     ]
    }
   ],
   "source": [
    "import requests\n",
    "from bs4 import BeautifulSoup\n",
    "url = 'https://www.imdb.com/list/ls055386972/'\n",
    "\n",
    "response = requests.get(url, headers={\"Accept-Language\":\"en-US\"})\n",
    "soup = BeautifulSoup(response.content, \"html.parser\")\n",
    "\n",
    "movies = []\n",
    "for movie in soup.find_all(\"div\", class_=\"lister-item-content\"):\n",
    "    title = movie.find(\"h3\").find(\"a\").string\n",
    "    duration = int(movie.find(\"span\", class_=\"runtime\").string.strip(' min'))\n",
    "    movies.append({'title': title, 'duration': duration})\n",
    "\n",
    "print(movies[0:2])"
   ]
  },
  {
   "cell_type": "code",
   "execution_count": null,
   "metadata": {},
   "outputs": [],
   "source": []
  }
 ],
 "metadata": {
  "kernelspec": {
   "display_name": "Python 3",
   "language": "python",
   "name": "python3"
  },
  "language_info": {
   "codemirror_mode": {
    "name": "ipython",
    "version": 3
   },
   "file_extension": ".py",
   "mimetype": "text/x-python",
   "name": "python",
   "nbconvert_exporter": "python",
   "pygments_lexer": "ipython3",
   "version": "3.8.5"
  }
 },
 "nbformat": 4,
 "nbformat_minor": 4
}
