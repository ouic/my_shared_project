{
 "cells": [
  {
   "cell_type": "code",
   "execution_count": 2,
   "metadata": {},
   "outputs": [
    {
     "name": "stdout",
     "output_type": "stream",
     "text": [
      "Quel est votre prénom ? Eric\n"
     ]
    }
   ],
   "source": [
    "nomUtilisateur = input('Quel est votre prénom ? ')"
   ]
  },
  {
   "cell_type": "code",
   "execution_count": 8,
   "metadata": {},
   "outputs": [
    {
     "name": "stdout",
     "output_type": "stream",
     "text": [
      "Quel est ton nom, cher(e) inconnu(e) ? marcel\n",
      "Salut Marcel !\n"
     ]
    }
   ],
   "source": [
    "nom = input('Quel est ton nom, cher(e) inconnu(e) ? ')\n",
    "\n",
    "if len(nom) > 0:\n",
    "    nom = nom.capitalize()\n",
    "    print(\"Salut\", nom, \"!\")\n",
    "else:\n",
    "    print(\"Salut toi !\")"
   ]
  },
  {
   "cell_type": "code",
   "execution_count": 9,
   "metadata": {},
   "outputs": [],
   "source": [
    "ceCoursEstGenial = True\n",
    "sonAuteurEstTresHumble = False"
   ]
  },
  {
   "cell_type": "code",
   "execution_count": 1,
   "metadata": {},
   "outputs": [
    {
     "data": {
      "text/plain": [
       "True"
      ]
     },
     "execution_count": 1,
     "metadata": {},
     "output_type": "execute_result"
    }
   ],
   "source": [
    "'Py' in 'Python'"
   ]
  },
  {
   "cell_type": "code",
   "execution_count": 10,
   "metadata": {},
   "outputs": [
    {
     "data": {
      "text/plain": [
       "True"
      ]
     },
     "execution_count": 10,
     "metadata": {},
     "output_type": "execute_result"
    }
   ],
   "source": [
    "meteo = \"La météo est chouette !\"\n",
    "meteo.startswith(\"La météo\") # -> True"
   ]
  },
  {
   "cell_type": "code",
   "execution_count": 16,
   "metadata": {},
   "outputs": [
    {
     "data": {
      "text/plain": [
       "True"
      ]
     },
     "execution_count": 16,
     "metadata": {},
     "output_type": "execute_result"
    }
   ],
   "source": [
    "2 == 2 # -> True\n",
    "2 == 3 # -> False\n",
    "4 != 4 # -> False\n",
    "4!= 5 # -> True\n",
    "1 < 2 # -> True\n",
    "1 < 1 # -> False\n",
    "1 <= 1 # -> True\n",
    "3 > 4 # -> False\n",
    "5 > 4 # -> True\n",
    "5 >= 4 # -> True\n",
    "True and True # True\n",
    "True and False # False\n",
    "False and False # False\n",
    "True or False # True\n",
    "True or True # True\n",
    "False or False # False\n",
    "not(True) # False\n",
    "not(False) # True\n",
    "True and True and True # True\n",
    "True and True and False # False\n",
    "True or False or False # True\n",
    "False or False or False # False\n",
    "False or True and True # True\n",
    "not(False) and True or False # True\n",
    "(True and False) or True # True\n",
    "not(True and False or not(True)) # True"
   ]
  },
  {
   "cell_type": "code",
   "execution_count": 12,
   "metadata": {},
   "outputs": [
    {
     "ename": "SyntaxError",
     "evalue": "unexpected EOF while parsing (<ipython-input-12-2bcefe1b450c>, line 4)",
     "output_type": "error",
     "traceback": [
      "\u001b[1;36m  File \u001b[1;32m\"<ipython-input-12-2bcefe1b450c>\"\u001b[1;36m, line \u001b[1;32m4\u001b[0m\n\u001b[1;33m    # Faire quelquechose si l'age est supérieur ou égal à 21\u001b[0m\n\u001b[1;37m                                                            ^\u001b[0m\n\u001b[1;31mSyntaxError\u001b[0m\u001b[1;31m:\u001b[0m unexpected EOF while parsing\n"
     ]
    }
   ],
   "source": [
    "age=15\n",
    "\n",
    "if age>=21:\n",
    "    # Faire quelquechose si l'age est supérieur ou égal à 21"
   ]
  },
  {
   "cell_type": "code",
   "execution_count": 17,
   "metadata": {},
   "outputs": [
    {
     "data": {
      "text/plain": [
       "False"
      ]
     },
     "execution_count": 17,
     "metadata": {},
     "output_type": "execute_result"
    }
   ],
   "source": [
    "maListe = [4, 2, 3, 2, 10]\n",
    "maListeDeString = [\"a\", \"b\", \"c\", \"d\"]\n",
    "monString = \"La météo est vraiment bien aujourd'hui !\"\n",
    "\n",
    "4 in maListe # True\n",
    "0 in maListe # False\n",
    "0 in maListeDeString # False\n",
    "\"c\" in maListeDeString # True\n",
    "\"e\" in maListeDeString # False\n",
    "\"météo\" in monString # True\n",
    "\"vraiment\" in monString # True\n",
    "\"pluie ?\" in monString # False"
   ]
  },
  {
   "cell_type": "code",
   "execution_count": 18,
   "metadata": {},
   "outputs": [
    {
     "ename": "IndentationError",
     "evalue": "expected an indented block (<ipython-input-18-52ecf88c6a99>, line 3)",
     "output_type": "error",
     "traceback": [
      "\u001b[1;36m  File \u001b[1;32m\"<ipython-input-18-52ecf88c6a99>\"\u001b[1;36m, line \u001b[1;32m3\u001b[0m\n\u001b[1;33m    elif condition2:\u001b[0m\n\u001b[1;37m    ^\u001b[0m\n\u001b[1;31mIndentationError\u001b[0m\u001b[1;31m:\u001b[0m expected an indented block\n"
     ]
    }
   ],
   "source": [
    "if condition1: \n",
    "    # instructions\n",
    "elif condition2:\n",
    "    # instructions\n",
    "else:\n",
    "    # instructions"
   ]
  },
  {
   "cell_type": "code",
   "execution_count": 20,
   "metadata": {},
   "outputs": [
    {
     "name": "stdout",
     "output_type": "stream",
     "text": [
      "Quel est le soldes de votre compte ?120\n",
      "Prêt en cours de validation : à l'étude\n"
     ]
    }
   ],
   "source": [
    "compte = input(\"Quel est le soldes de votre compte ?\")\n",
    "compte = int(compte) # transformer la réponse en entier\n",
    "\n",
    "if compte >= 10000:\n",
    "    print(\"Prêt accordé !\")\n",
    "elif compte >= 100 and compte < 10000:\n",
    "    print(\"Prêt en cours de validation : à l'étude\")\n",
    "else:\n",
    "    print(\"Prêt refusé\")"
   ]
  },
  {
   "cell_type": "code",
   "execution_count": 21,
   "metadata": {},
   "outputs": [
    {
     "name": "stdout",
     "output_type": "stream",
     "text": [
      "c est entre a et b\n"
     ]
    }
   ],
   "source": [
    "a = 5\n",
    "b = 10\n",
    "c = 7\n",
    "\n",
    "    \n",
    "if c > a and c < b :\n",
    "\tprint(\"c est entre a et b\")\n",
    "\n",
    "elif c < a :\n",
    "\tprint(\"c est plus petit que a\")\n",
    "    \n",
    "else :\n",
    "\tprint(\"c est plus grand que b\")"
   ]
  },
  {
   "cell_type": "code",
   "execution_count": null,
   "metadata": {},
   "outputs": [],
   "source": []
  }
 ],
 "metadata": {
  "kernelspec": {
   "display_name": "Python 3",
   "language": "python",
   "name": "python3"
  },
  "language_info": {
   "codemirror_mode": {
    "name": "ipython",
    "version": 3
   },
   "file_extension": ".py",
   "mimetype": "text/x-python",
   "name": "python",
   "nbconvert_exporter": "python",
   "pygments_lexer": "ipython3",
   "version": "3.8.5"
  }
 },
 "nbformat": 4,
 "nbformat_minor": 4
}
