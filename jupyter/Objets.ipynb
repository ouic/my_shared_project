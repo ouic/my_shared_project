{
 "cells": [
  {
   "cell_type": "code",
   "execution_count": 1,
   "metadata": {},
   "outputs": [],
   "source": [
    "var1 = 14\n",
    "var2 = 1031"
   ]
  },
  {
   "cell_type": "code",
   "execution_count": 2,
   "metadata": {},
   "outputs": [
    {
     "data": {
      "text/plain": [
       "'salut a tous'"
      ]
     },
     "execution_count": 2,
     "metadata": {},
     "output_type": "execute_result"
    }
   ],
   "source": [
    "a = \"SALUT A TOUS\"\n",
    "a.lower()"
   ]
  },
  {
   "cell_type": "code",
   "execution_count": 4,
   "metadata": {},
   "outputs": [
    {
     "name": "stdout",
     "output_type": "stream",
     "text": [
      "VOICI UN EXEMPLE AVEC UN STRING\n",
      "Voici un exemple avec un string\n",
      "voici un essai avec un STRING\n",
      "6\n",
      "-1\n"
     ]
    }
   ],
   "source": [
    "texte = 'voici un EXEMPLE avec un STRING'\n",
    "a = texte.upper()\n",
    "print(a)\n",
    "print(texte.capitalize())\n",
    "print(texte.replace('EXEMPLE','essai'))\n",
    "print(texte.find('un'))\n",
    "print(texte.find('deux'))"
   ]
  },
  {
   "cell_type": "code",
   "execution_count": 5,
   "metadata": {},
   "outputs": [
    {
     "name": "stdout",
     "output_type": "stream",
     "text": [
      "je suis enerve !!\n",
      "je suis calme !!\n"
     ]
    }
   ],
   "source": [
    "maPhrase = 'JE SUIS ENERVE !!'\n",
    "\n",
    "# TODO : mettre maPhrase en miniscule\n",
    "print(maPhrase.lower())\n",
    "\n",
    "# TODO : remplacez les ... par quelque chose permettant d'afficher : je suis calme !!\n",
    "maPhraseLower = maPhrase.lower()\n",
    "print(maPhraseLower.replace(\"enerve\", \"calme\"))"
   ]
  },
  {
   "cell_type": "code",
   "execution_count": null,
   "metadata": {},
   "outputs": [],
   "source": []
  }
 ],
 "metadata": {
  "kernelspec": {
   "display_name": "Python 3",
   "language": "python",
   "name": "python3"
  },
  "language_info": {
   "codemirror_mode": {
    "name": "ipython",
    "version": 3
   },
   "file_extension": ".py",
   "mimetype": "text/x-python",
   "name": "python",
   "nbconvert_exporter": "python",
   "pygments_lexer": "ipython3",
   "version": "3.8.5"
  }
 },
 "nbformat": 4,
 "nbformat_minor": 4
}
