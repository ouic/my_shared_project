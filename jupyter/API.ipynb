{
 "cells": [
  {
   "cell_type": "markdown",
   "metadata": {},
   "source": [
    "Create\n",
    "post -\n",
    "/restaurant\n",
    "\n",
    "Read\n",
    "get -\n",
    "/restaurants/iid\n",
    "/restaurants\n",
    "\n",
    "Update\n",
    "patch -\n",
    "/restaurants/iid\n",
    "\n",
    "Delete\n",
    "delete -\n",
    "/restaurants/iid"
   ]
  },
  {
   "cell_type": "markdown",
   "metadata": {},
   "source": [
    "open API list :\n",
    "https://github.com/public-apis/public-apis"
   ]
  },
  {
   "cell_type": "markdown",
   "metadata": {},
   "source": [
    "extension chrome à installer pour visualiser les fichiers json nativement dans chrome :\n",
    "https://chrome.google.com/webstore/detail/jsonview/chklaanhfefbnpoihckbnefhakgolnmc/related?hl=fr\n"
   ]
  },
  {
   "cell_type": "code",
   "execution_count": 2,
   "metadata": {},
   "outputs": [
    {
     "name": "stdout",
     "output_type": "stream",
     "text": [
      "Eric Pinto\n"
     ]
    }
   ],
   "source": [
    "import requests\n",
    "\n",
    "url = 'https://api.github.com/users/ouic'\n",
    "response = requests.get(url).json()\n",
    "\n",
    "print(response['name'])"
   ]
  },
  {
   "cell_type": "code",
   "execution_count": 3,
   "metadata": {},
   "outputs": [
    {
     "ename": "SyntaxError",
     "evalue": "EOL while scanning string literal (<ipython-input-3-404550fd9463>, line 6)",
     "output_type": "error",
     "traceback": [
      "\u001b[1;36m  File \u001b[1;32m\"<ipython-input-3-404550fd9463>\"\u001b[1;36m, line \u001b[1;32m6\u001b[0m\n\u001b[1;33m    key = f'ISBN:{isbn}''\u001b[0m\n\u001b[1;37m                         ^\u001b[0m\n\u001b[1;31mSyntaxError\u001b[0m\u001b[1;31m:\u001b[0m EOL while scanning string literal\n"
     ]
    }
   ],
   "source": [
    "import requests\n",
    "\n",
    "# https://openlibrary.org/api/books?bibkeys=ISBN:9780980200447&jscmd=data&format=json\n",
    "\n",
    "isbns = [\n",
    "    '9780747532699'\n",
    "    '9780747532699'\n",
    "    '9780747532699'\n",
    "    '9780747532699'\n",
    "    '9780747532699'\n",
    "    '9780747532699'\n",
    "    '9780747532699'\n",
    "    '9780747532699'\n",
    "    '9780747532699'\n",
    "    '9780747532699'\n",
    "]\n",
    "\n",
    "def get_book_title(isbn):\n",
    "    key = f'ISBN:{isbn}''\n",
    "    url = 'https://openlibrary.org/api/books'\n",
    "    params = {\n",
    "        'bibkeys' : key,\n",
    "        'format' : 'json',\n",
    "        'jscmd' : 'data'\n",
    "    }\n",
    "\n",
    "    response = requests.get(url,params = params).json()\n",
    "\n",
    "    return response[key]['name'])"
   ]
  },
  {
   "cell_type": "code",
   "execution_count": null,
   "metadata": {},
   "outputs": [],
   "source": []
  }
 ],
 "metadata": {
  "kernelspec": {
   "display_name": "Python 3",
   "language": "python",
   "name": "python3"
  },
  "language_info": {
   "codemirror_mode": {
    "name": "ipython",
    "version": 3
   },
   "file_extension": ".py",
   "mimetype": "text/x-python",
   "name": "python",
   "nbconvert_exporter": "python",
   "pygments_lexer": "ipython3",
   "version": "3.8.5"
  }
 },
 "nbformat": 4,
 "nbformat_minor": 4
}
