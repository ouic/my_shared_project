{
 "cells": [
  {
   "cell_type": "code",
   "execution_count": 52,
   "metadata": {},
   "outputs": [
    {
     "data": {
      "text/plain": [
       "WindowsPath('E:/Eric/Programmation/Python/OUIC/Automate_The_Boring_Stuff')"
      ]
     },
     "execution_count": 52,
     "metadata": {},
     "output_type": "execute_result"
    }
   ],
   "source": [
    "# change the Current Working Directory using os.chdir()\n",
    "import os\n",
    "from pathlib import Path\n",
    "os.chdir('E:\\\\Eric\\\\Programmation\\\\Python\\\\OUIC\\\\Automate_The_Boring_Stuff')\n",
    "Path.cwd()"
   ]
  },
  {
   "cell_type": "code",
   "execution_count": 7,
   "metadata": {},
   "outputs": [
    {
     "data": {
      "text/plain": [
       "WindowsPath('E:/Eric/Programmation/Python/OUIC/Automate_The_Boring_Stuff/some_folder/eggs2.txt')"
      ]
     },
     "execution_count": 7,
     "metadata": {},
     "output_type": "execute_result"
    }
   ],
   "source": [
    "# shutil (or shell utilities) Module\n",
    "\n",
    "# Copying Files\n",
    "\n",
    "import shutil, os\n",
    "from pathlib import Path\n",
    "p = Path('E:/Eric/Programmation/Python/OUIC/Automate_The_Boring_Stuff')\n",
    "shutil.copy(p / 'test.txt', p / 'some_folder')\n",
    "shutil.copy(p / 'test.txt', p / 'some_folder/eggs2.txt')"
   ]
  },
  {
   "cell_type": "code",
   "execution_count": 8,
   "metadata": {},
   "outputs": [
    {
     "data": {
      "text/plain": [
       "WindowsPath('E:/Eric/Programmation/Python/OUIC/Automate_The_Boring_Stuff/some_folder_backup')"
      ]
     },
     "execution_count": 8,
     "metadata": {},
     "output_type": "execute_result"
    }
   ],
   "source": [
    "# Copying Folders\n",
    "import shutil, os\n",
    "from pathlib import Path\n",
    "p = Path('E:/Eric/Programmation/Python/OUIC/Automate_The_Boring_Stuff')\n",
    "shutil.copytree(p / 'some_folder', p / 'some_folder_backup')"
   ]
  },
  {
   "cell_type": "code",
   "execution_count": 9,
   "metadata": {},
   "outputs": [
    {
     "data": {
      "text/plain": [
       "'E:\\\\Eric\\\\Programmation\\\\Python\\\\OUIC\\\\Automate_The_Boring_Stuff\\\\other_folder\\\\eggs2.txt'"
      ]
     },
     "execution_count": 9,
     "metadata": {},
     "output_type": "execute_result"
    }
   ],
   "source": [
    "# Moving Files - shutil.move(source, destination)\n",
    "import shutil\n",
    "shutil.move('E:\\\\Eric\\\\Programmation\\\\Python\\\\OUIC\\\\Automate_The_Boring_Stuff\\\\some_folder\\\\eggs2.txt', 'E:\\\\Eric\\\\Programmation\\\\Python\\\\OUIC\\\\Automate_The_Boring_Stuff\\\\other_folder')"
   ]
  },
  {
   "cell_type": "code",
   "execution_count": 10,
   "metadata": {},
   "outputs": [
    {
     "data": {
      "text/plain": [
       "'E:\\\\Eric\\\\Programmation\\\\Python\\\\OUIC\\\\Automate_The_Boring_Stuff\\\\some_folder\\\\eggs_renamed.txt'"
      ]
     },
     "execution_count": 10,
     "metadata": {},
     "output_type": "execute_result"
    }
   ],
   "source": [
    "# move and rename file\n",
    "shutil.move('E:\\\\Eric\\\\Programmation\\\\Python\\\\OUIC\\\\Automate_The_Boring_Stuff\\\\other_folder\\\\eggs2.txt', 'E:\\\\Eric\\\\Programmation\\\\Python\\\\OUIC\\\\Automate_The_Boring_Stuff\\\\some_folder\\\\eggs_renamed.txt')"
   ]
  },
  {
   "cell_type": "code",
   "execution_count": 38,
   "metadata": {},
   "outputs": [
    {
     "name": "stdout",
     "output_type": "stream",
     "text": [
      "\n",
      "\n",
      "folder that will be deleted :  N:\\Fred\\Biocoop\\Mise en avant - zoom produit\n"
     ]
    }
   ],
   "source": [
    "# delete permanently files !!!!!!! be carefull !!!!!!!\n",
    "import os\n",
    "from pathlib import Path\n",
    "#p = Path('E:\\Eric\\Programmation\\Python\\OUIC\\Automate_The_Boring_Stuff\\delete_folder')\n",
    "\n",
    "for filename in p.glob('*.rxt'):\n",
    "    #os.unlink(filename)                     # --uncomment to delete all the files permanently\n",
    "    print(filename)\n",
    "\n",
    "print('\\n')\n",
    "\n",
    "#shutil.rmtree(p)                      # --uncomment to delete the folder permanently\n",
    "print('folder that will be deleted : ', p)"
   ]
  },
  {
   "cell_type": "code",
   "execution_count": 33,
   "metadata": {},
   "outputs": [],
   "source": [
    "# Safe Deletes with the send2trash Module : send files to the recycle bin\n",
    "# pip install --user send2trash\n",
    "import send2trash\n",
    "baconFile = open('bacon.txt', 'a')   # creates the file\n",
    "baconFile.write('\\nI love Bacon !!')\n",
    "baconFile.close()\n",
    "send2trash.send2trash('bacon.txt')"
   ]
  },
  {
   "cell_type": "code",
   "execution_count": 35,
   "metadata": {},
   "outputs": [
    {
     "name": "stdout",
     "output_type": "stream",
     "text": [
      "The current folder is E:\\Eric\\Programmation\\Python\\OUIC\\Automate_The_Boring_Stuff\n",
      "SUBFOLDER OF E:\\Eric\\Programmation\\Python\\OUIC\\Automate_The_Boring_Stuff: .idea\n",
      "SUBFOLDER OF E:\\Eric\\Programmation\\Python\\OUIC\\Automate_The_Boring_Stuff: Capitale Random Quiz\n",
      "SUBFOLDER OF E:\\Eric\\Programmation\\Python\\OUIC\\Automate_The_Boring_Stuff: delete_folder\n",
      "SUBFOLDER OF E:\\Eric\\Programmation\\Python\\OUIC\\Automate_The_Boring_Stuff: other_folder\n",
      "SUBFOLDER OF E:\\Eric\\Programmation\\Python\\OUIC\\Automate_The_Boring_Stuff: some_folder\n",
      "SUBFOLDER OF E:\\Eric\\Programmation\\Python\\OUIC\\Automate_The_Boring_Stuff: some_folder_backup\n",
      "SUBFOLDER OF E:\\Eric\\Programmation\\Python\\OUIC\\Automate_The_Boring_Stuff: __pycache__\n",
      "FILE INSIDE E:\\Eric\\Programmation\\Python\\OUIC\\Automate_The_Boring_Stuff: Addition.py\n",
      "FILE INSIDE E:\\Eric\\Programmation\\Python\\OUIC\\Automate_The_Boring_Stuff: Agreement.py\n",
      "FILE INSIDE E:\\Eric\\Programmation\\Python\\OUIC\\Automate_The_Boring_Stuff: bulletPointAdder.py\n",
      "FILE INSIDE E:\\Eric\\Programmation\\Python\\OUIC\\Automate_The_Boring_Stuff: example.zip\n",
      "FILE INSIDE E:\\Eric\\Programmation\\Python\\OUIC\\Automate_The_Boring_Stuff: hello.txt\n",
      "FILE INSIDE E:\\Eric\\Programmation\\Python\\OUIC\\Automate_The_Boring_Stuff: main.py\n",
      "FILE INSIDE E:\\Eric\\Programmation\\Python\\OUIC\\Automate_The_Boring_Stuff: multiplicationQuiz.py\n",
      "FILE INSIDE E:\\Eric\\Programmation\\Python\\OUIC\\Automate_The_Boring_Stuff: myCats.py\n",
      "FILE INSIDE E:\\Eric\\Programmation\\Python\\OUIC\\Automate_The_Boring_Stuff: mydata.bak\n",
      "FILE INSIDE E:\\Eric\\Programmation\\Python\\OUIC\\Automate_The_Boring_Stuff: mydata.dat\n",
      "FILE INSIDE E:\\Eric\\Programmation\\Python\\OUIC\\Automate_The_Boring_Stuff: mydata.dir\n",
      "FILE INSIDE E:\\Eric\\Programmation\\Python\\OUIC\\Automate_The_Boring_Stuff: Nouveau document texte.txt\n",
      "FILE INSIDE E:\\Eric\\Programmation\\Python\\OUIC\\Automate_The_Boring_Stuff: phoneAndEmail.py\n",
      "FILE INSIDE E:\\Eric\\Programmation\\Python\\OUIC\\Automate_The_Boring_Stuff: pigLatin.py\n",
      "FILE INSIDE E:\\Eric\\Programmation\\Python\\OUIC\\Automate_The_Boring_Stuff: randomQuizGenerator.py\n",
      "FILE INSIDE E:\\Eric\\Programmation\\Python\\OUIC\\Automate_The_Boring_Stuff: sonnet29.txt\n",
      "FILE INSIDE E:\\Eric\\Programmation\\Python\\OUIC\\Automate_The_Boring_Stuff: test.txt\n",
      "\n",
      "The current folder is E:\\Eric\\Programmation\\Python\\OUIC\\Automate_The_Boring_Stuff\\.idea\n",
      "SUBFOLDER OF E:\\Eric\\Programmation\\Python\\OUIC\\Automate_The_Boring_Stuff\\.idea: inspectionProfiles\n",
      "FILE INSIDE E:\\Eric\\Programmation\\Python\\OUIC\\Automate_The_Boring_Stuff\\.idea: .gitignore\n",
      "FILE INSIDE E:\\Eric\\Programmation\\Python\\OUIC\\Automate_The_Boring_Stuff\\.idea: Automate_The_Boring_Stuff.iml\n",
      "FILE INSIDE E:\\Eric\\Programmation\\Python\\OUIC\\Automate_The_Boring_Stuff\\.idea: misc.xml\n",
      "FILE INSIDE E:\\Eric\\Programmation\\Python\\OUIC\\Automate_The_Boring_Stuff\\.idea: modules.xml\n",
      "FILE INSIDE E:\\Eric\\Programmation\\Python\\OUIC\\Automate_The_Boring_Stuff\\.idea: workspace.xml\n",
      "\n",
      "The current folder is E:\\Eric\\Programmation\\Python\\OUIC\\Automate_The_Boring_Stuff\\.idea\\inspectionProfiles\n",
      "FILE INSIDE E:\\Eric\\Programmation\\Python\\OUIC\\Automate_The_Boring_Stuff\\.idea\\inspectionProfiles: profiles_settings.xml\n",
      "\n",
      "The current folder is E:\\Eric\\Programmation\\Python\\OUIC\\Automate_The_Boring_Stuff\\Capitale Random Quiz\n",
      "FILE INSIDE E:\\Eric\\Programmation\\Python\\OUIC\\Automate_The_Boring_Stuff\\Capitale Random Quiz: capitalsquiz1.txt\n",
      "FILE INSIDE E:\\Eric\\Programmation\\Python\\OUIC\\Automate_The_Boring_Stuff\\Capitale Random Quiz: capitalsquiz10.txt\n",
      "FILE INSIDE E:\\Eric\\Programmation\\Python\\OUIC\\Automate_The_Boring_Stuff\\Capitale Random Quiz: capitalsquiz11.txt\n",
      "FILE INSIDE E:\\Eric\\Programmation\\Python\\OUIC\\Automate_The_Boring_Stuff\\Capitale Random Quiz: capitalsquiz12.txt\n",
      "FILE INSIDE E:\\Eric\\Programmation\\Python\\OUIC\\Automate_The_Boring_Stuff\\Capitale Random Quiz: capitalsquiz13.txt\n",
      "FILE INSIDE E:\\Eric\\Programmation\\Python\\OUIC\\Automate_The_Boring_Stuff\\Capitale Random Quiz: capitalsquiz14.txt\n",
      "FILE INSIDE E:\\Eric\\Programmation\\Python\\OUIC\\Automate_The_Boring_Stuff\\Capitale Random Quiz: capitalsquiz15.txt\n",
      "FILE INSIDE E:\\Eric\\Programmation\\Python\\OUIC\\Automate_The_Boring_Stuff\\Capitale Random Quiz: capitalsquiz16.txt\n",
      "FILE INSIDE E:\\Eric\\Programmation\\Python\\OUIC\\Automate_The_Boring_Stuff\\Capitale Random Quiz: capitalsquiz17.txt\n",
      "FILE INSIDE E:\\Eric\\Programmation\\Python\\OUIC\\Automate_The_Boring_Stuff\\Capitale Random Quiz: capitalsquiz18.txt\n",
      "FILE INSIDE E:\\Eric\\Programmation\\Python\\OUIC\\Automate_The_Boring_Stuff\\Capitale Random Quiz: capitalsquiz19.txt\n",
      "FILE INSIDE E:\\Eric\\Programmation\\Python\\OUIC\\Automate_The_Boring_Stuff\\Capitale Random Quiz: capitalsquiz2.txt\n",
      "FILE INSIDE E:\\Eric\\Programmation\\Python\\OUIC\\Automate_The_Boring_Stuff\\Capitale Random Quiz: capitalsquiz20.txt\n",
      "FILE INSIDE E:\\Eric\\Programmation\\Python\\OUIC\\Automate_The_Boring_Stuff\\Capitale Random Quiz: capitalsquiz21.txt\n",
      "FILE INSIDE E:\\Eric\\Programmation\\Python\\OUIC\\Automate_The_Boring_Stuff\\Capitale Random Quiz: capitalsquiz22.txt\n",
      "FILE INSIDE E:\\Eric\\Programmation\\Python\\OUIC\\Automate_The_Boring_Stuff\\Capitale Random Quiz: capitalsquiz23.txt\n",
      "FILE INSIDE E:\\Eric\\Programmation\\Python\\OUIC\\Automate_The_Boring_Stuff\\Capitale Random Quiz: capitalsquiz24.txt\n",
      "FILE INSIDE E:\\Eric\\Programmation\\Python\\OUIC\\Automate_The_Boring_Stuff\\Capitale Random Quiz: capitalsquiz25.txt\n",
      "FILE INSIDE E:\\Eric\\Programmation\\Python\\OUIC\\Automate_The_Boring_Stuff\\Capitale Random Quiz: capitalsquiz26.txt\n",
      "FILE INSIDE E:\\Eric\\Programmation\\Python\\OUIC\\Automate_The_Boring_Stuff\\Capitale Random Quiz: capitalsquiz27.txt\n",
      "FILE INSIDE E:\\Eric\\Programmation\\Python\\OUIC\\Automate_The_Boring_Stuff\\Capitale Random Quiz: capitalsquiz28.txt\n",
      "FILE INSIDE E:\\Eric\\Programmation\\Python\\OUIC\\Automate_The_Boring_Stuff\\Capitale Random Quiz: capitalsquiz29.txt\n",
      "FILE INSIDE E:\\Eric\\Programmation\\Python\\OUIC\\Automate_The_Boring_Stuff\\Capitale Random Quiz: capitalsquiz3.txt\n",
      "FILE INSIDE E:\\Eric\\Programmation\\Python\\OUIC\\Automate_The_Boring_Stuff\\Capitale Random Quiz: capitalsquiz30.txt\n",
      "FILE INSIDE E:\\Eric\\Programmation\\Python\\OUIC\\Automate_The_Boring_Stuff\\Capitale Random Quiz: capitalsquiz31.txt\n",
      "FILE INSIDE E:\\Eric\\Programmation\\Python\\OUIC\\Automate_The_Boring_Stuff\\Capitale Random Quiz: capitalsquiz32.txt\n",
      "FILE INSIDE E:\\Eric\\Programmation\\Python\\OUIC\\Automate_The_Boring_Stuff\\Capitale Random Quiz: capitalsquiz33.txt\n",
      "FILE INSIDE E:\\Eric\\Programmation\\Python\\OUIC\\Automate_The_Boring_Stuff\\Capitale Random Quiz: capitalsquiz34.txt\n",
      "FILE INSIDE E:\\Eric\\Programmation\\Python\\OUIC\\Automate_The_Boring_Stuff\\Capitale Random Quiz: capitalsquiz35.txt\n",
      "FILE INSIDE E:\\Eric\\Programmation\\Python\\OUIC\\Automate_The_Boring_Stuff\\Capitale Random Quiz: capitalsquiz4.txt\n",
      "FILE INSIDE E:\\Eric\\Programmation\\Python\\OUIC\\Automate_The_Boring_Stuff\\Capitale Random Quiz: capitalsquiz5.txt\n",
      "FILE INSIDE E:\\Eric\\Programmation\\Python\\OUIC\\Automate_The_Boring_Stuff\\Capitale Random Quiz: capitalsquiz6.txt\n",
      "FILE INSIDE E:\\Eric\\Programmation\\Python\\OUIC\\Automate_The_Boring_Stuff\\Capitale Random Quiz: capitalsquiz7.txt\n",
      "FILE INSIDE E:\\Eric\\Programmation\\Python\\OUIC\\Automate_The_Boring_Stuff\\Capitale Random Quiz: capitalsquiz8.txt\n",
      "FILE INSIDE E:\\Eric\\Programmation\\Python\\OUIC\\Automate_The_Boring_Stuff\\Capitale Random Quiz: capitalsquiz9.txt\n",
      "FILE INSIDE E:\\Eric\\Programmation\\Python\\OUIC\\Automate_The_Boring_Stuff\\Capitale Random Quiz: capitalsquiz_answers1.txt\n",
      "FILE INSIDE E:\\Eric\\Programmation\\Python\\OUIC\\Automate_The_Boring_Stuff\\Capitale Random Quiz: capitalsquiz_answers10.txt\n",
      "FILE INSIDE E:\\Eric\\Programmation\\Python\\OUIC\\Automate_The_Boring_Stuff\\Capitale Random Quiz: capitalsquiz_answers11.txt\n",
      "FILE INSIDE E:\\Eric\\Programmation\\Python\\OUIC\\Automate_The_Boring_Stuff\\Capitale Random Quiz: capitalsquiz_answers12.txt\n",
      "FILE INSIDE E:\\Eric\\Programmation\\Python\\OUIC\\Automate_The_Boring_Stuff\\Capitale Random Quiz: capitalsquiz_answers13.txt\n",
      "FILE INSIDE E:\\Eric\\Programmation\\Python\\OUIC\\Automate_The_Boring_Stuff\\Capitale Random Quiz: capitalsquiz_answers14.txt\n",
      "FILE INSIDE E:\\Eric\\Programmation\\Python\\OUIC\\Automate_The_Boring_Stuff\\Capitale Random Quiz: capitalsquiz_answers15.txt\n",
      "FILE INSIDE E:\\Eric\\Programmation\\Python\\OUIC\\Automate_The_Boring_Stuff\\Capitale Random Quiz: capitalsquiz_answers16.txt\n",
      "FILE INSIDE E:\\Eric\\Programmation\\Python\\OUIC\\Automate_The_Boring_Stuff\\Capitale Random Quiz: capitalsquiz_answers17.txt\n",
      "FILE INSIDE E:\\Eric\\Programmation\\Python\\OUIC\\Automate_The_Boring_Stuff\\Capitale Random Quiz: capitalsquiz_answers18.txt\n",
      "FILE INSIDE E:\\Eric\\Programmation\\Python\\OUIC\\Automate_The_Boring_Stuff\\Capitale Random Quiz: capitalsquiz_answers19.txt\n",
      "FILE INSIDE E:\\Eric\\Programmation\\Python\\OUIC\\Automate_The_Boring_Stuff\\Capitale Random Quiz: capitalsquiz_answers2.txt\n",
      "FILE INSIDE E:\\Eric\\Programmation\\Python\\OUIC\\Automate_The_Boring_Stuff\\Capitale Random Quiz: capitalsquiz_answers20.txt\n",
      "FILE INSIDE E:\\Eric\\Programmation\\Python\\OUIC\\Automate_The_Boring_Stuff\\Capitale Random Quiz: capitalsquiz_answers21.txt\n",
      "FILE INSIDE E:\\Eric\\Programmation\\Python\\OUIC\\Automate_The_Boring_Stuff\\Capitale Random Quiz: capitalsquiz_answers22.txt\n",
      "FILE INSIDE E:\\Eric\\Programmation\\Python\\OUIC\\Automate_The_Boring_Stuff\\Capitale Random Quiz: capitalsquiz_answers23.txt\n",
      "FILE INSIDE E:\\Eric\\Programmation\\Python\\OUIC\\Automate_The_Boring_Stuff\\Capitale Random Quiz: capitalsquiz_answers24.txt\n",
      "FILE INSIDE E:\\Eric\\Programmation\\Python\\OUIC\\Automate_The_Boring_Stuff\\Capitale Random Quiz: capitalsquiz_answers25.txt\n",
      "FILE INSIDE E:\\Eric\\Programmation\\Python\\OUIC\\Automate_The_Boring_Stuff\\Capitale Random Quiz: capitalsquiz_answers26.txt\n",
      "FILE INSIDE E:\\Eric\\Programmation\\Python\\OUIC\\Automate_The_Boring_Stuff\\Capitale Random Quiz: capitalsquiz_answers27.txt\n",
      "FILE INSIDE E:\\Eric\\Programmation\\Python\\OUIC\\Automate_The_Boring_Stuff\\Capitale Random Quiz: capitalsquiz_answers28.txt\n",
      "FILE INSIDE E:\\Eric\\Programmation\\Python\\OUIC\\Automate_The_Boring_Stuff\\Capitale Random Quiz: capitalsquiz_answers29.txt\n",
      "FILE INSIDE E:\\Eric\\Programmation\\Python\\OUIC\\Automate_The_Boring_Stuff\\Capitale Random Quiz: capitalsquiz_answers3.txt\n",
      "FILE INSIDE E:\\Eric\\Programmation\\Python\\OUIC\\Automate_The_Boring_Stuff\\Capitale Random Quiz: capitalsquiz_answers30.txt\n",
      "FILE INSIDE E:\\Eric\\Programmation\\Python\\OUIC\\Automate_The_Boring_Stuff\\Capitale Random Quiz: capitalsquiz_answers31.txt\n",
      "FILE INSIDE E:\\Eric\\Programmation\\Python\\OUIC\\Automate_The_Boring_Stuff\\Capitale Random Quiz: capitalsquiz_answers32.txt\n",
      "FILE INSIDE E:\\Eric\\Programmation\\Python\\OUIC\\Automate_The_Boring_Stuff\\Capitale Random Quiz: capitalsquiz_answers33.txt\n",
      "FILE INSIDE E:\\Eric\\Programmation\\Python\\OUIC\\Automate_The_Boring_Stuff\\Capitale Random Quiz: capitalsquiz_answers34.txt\n",
      "FILE INSIDE E:\\Eric\\Programmation\\Python\\OUIC\\Automate_The_Boring_Stuff\\Capitale Random Quiz: capitalsquiz_answers35.txt\n",
      "FILE INSIDE E:\\Eric\\Programmation\\Python\\OUIC\\Automate_The_Boring_Stuff\\Capitale Random Quiz: capitalsquiz_answers4.txt\n",
      "FILE INSIDE E:\\Eric\\Programmation\\Python\\OUIC\\Automate_The_Boring_Stuff\\Capitale Random Quiz: capitalsquiz_answers5.txt\n",
      "FILE INSIDE E:\\Eric\\Programmation\\Python\\OUIC\\Automate_The_Boring_Stuff\\Capitale Random Quiz: capitalsquiz_answers6.txt\n",
      "FILE INSIDE E:\\Eric\\Programmation\\Python\\OUIC\\Automate_The_Boring_Stuff\\Capitale Random Quiz: capitalsquiz_answers7.txt\n",
      "FILE INSIDE E:\\Eric\\Programmation\\Python\\OUIC\\Automate_The_Boring_Stuff\\Capitale Random Quiz: capitalsquiz_answers8.txt\n",
      "FILE INSIDE E:\\Eric\\Programmation\\Python\\OUIC\\Automate_The_Boring_Stuff\\Capitale Random Quiz: capitalsquiz_answers9.txt\n",
      "\n",
      "The current folder is E:\\Eric\\Programmation\\Python\\OUIC\\Automate_The_Boring_Stuff\\delete_folder\n",
      "FILE INSIDE E:\\Eric\\Programmation\\Python\\OUIC\\Automate_The_Boring_Stuff\\delete_folder: Nouveau document texte - Copie (2).rxt\n",
      "FILE INSIDE E:\\Eric\\Programmation\\Python\\OUIC\\Automate_The_Boring_Stuff\\delete_folder: Nouveau document texte - Copie (3).rxt\n",
      "FILE INSIDE E:\\Eric\\Programmation\\Python\\OUIC\\Automate_The_Boring_Stuff\\delete_folder: Nouveau document texte - Copie (4).rxt\n",
      "FILE INSIDE E:\\Eric\\Programmation\\Python\\OUIC\\Automate_The_Boring_Stuff\\delete_folder: Nouveau document texte - Copie (5).rxt\n",
      "FILE INSIDE E:\\Eric\\Programmation\\Python\\OUIC\\Automate_The_Boring_Stuff\\delete_folder: Nouveau document texte - Copie (6).rxt\n",
      "FILE INSIDE E:\\Eric\\Programmation\\Python\\OUIC\\Automate_The_Boring_Stuff\\delete_folder: Nouveau document texte - Copie.rxt\n",
      "FILE INSIDE E:\\Eric\\Programmation\\Python\\OUIC\\Automate_The_Boring_Stuff\\delete_folder: Nouveau document texte.rxt\n",
      "\n",
      "The current folder is E:\\Eric\\Programmation\\Python\\OUIC\\Automate_The_Boring_Stuff\\other_folder\n",
      "\n",
      "The current folder is E:\\Eric\\Programmation\\Python\\OUIC\\Automate_The_Boring_Stuff\\some_folder\n",
      "FILE INSIDE E:\\Eric\\Programmation\\Python\\OUIC\\Automate_The_Boring_Stuff\\some_folder: eggs_renamed.txt\n",
      "FILE INSIDE E:\\Eric\\Programmation\\Python\\OUIC\\Automate_The_Boring_Stuff\\some_folder: test.txt\n",
      "\n",
      "The current folder is E:\\Eric\\Programmation\\Python\\OUIC\\Automate_The_Boring_Stuff\\some_folder_backup\n",
      "FILE INSIDE E:\\Eric\\Programmation\\Python\\OUIC\\Automate_The_Boring_Stuff\\some_folder_backup: eggs2.txt\n",
      "FILE INSIDE E:\\Eric\\Programmation\\Python\\OUIC\\Automate_The_Boring_Stuff\\some_folder_backup: test.txt\n",
      "\n",
      "The current folder is E:\\Eric\\Programmation\\Python\\OUIC\\Automate_The_Boring_Stuff\\__pycache__\n",
      "FILE INSIDE E:\\Eric\\Programmation\\Python\\OUIC\\Automate_The_Boring_Stuff\\__pycache__: myCats.cpython-38.pyc\n",
      "\n"
     ]
    }
   ],
   "source": [
    "# naviguer dans une aborescence\n",
    "import os\n",
    "\n",
    "p = Path('E:\\\\Eric\\\\Programmation\\\\Python\\\\OUIC\\\\Automate_The_Boring_Stuff')\n",
    "\n",
    "for folderName, subfolders, filenames in os.walk(p):\n",
    "    print('The current folder is ' + folderName)\n",
    "\n",
    "    for subfolder in subfolders:\n",
    "        print('SUBFOLDER OF ' + folderName + ': ' + subfolder)\n",
    "\n",
    "    for filename in filenames:\n",
    "        print('FILE INSIDE ' + folderName + ': '+ filename)\n",
    "\n",
    "    print('')"
   ]
  },
  {
   "cell_type": "code",
   "execution_count": 36,
   "metadata": {},
   "outputs": [
    {
     "data": {
      "text/plain": [
       "['pigLatin.py',\n",
       " 'randomQuizGenerator.py',\n",
       " 'sonnet29.txt',\n",
       " 'test.txt',\n",
       " 'phoneAndEmail.py']"
      ]
     },
     "execution_count": 36,
     "metadata": {},
     "output_type": "execute_result"
    }
   ],
   "source": [
    "# Compressing Files with the zipfile Module\n",
    "import zipfile, os\n",
    "from pathlib import Path\n",
    "p = Path('E:\\\\Eric\\\\Programmation\\\\Python\\\\OUIC\\\\Automate_The_Boring_Stuff')\n",
    "\n",
    "exampleZip = zipfile.ZipFile(p / 'example.zip')\n",
    "exampleZip.namelist()"
   ]
  },
  {
   "cell_type": "code",
   "execution_count": 37,
   "metadata": {},
   "outputs": [
    {
     "data": {
      "text/plain": [
       "1354"
      ]
     },
     "execution_count": 37,
     "metadata": {},
     "output_type": "execute_result"
    }
   ],
   "source": [
    "spamInfo = exampleZip.getinfo('phoneAndEmail.py')\n",
    "spamInfo.file_size"
   ]
  },
  {
   "cell_type": "code",
   "execution_count": 39,
   "metadata": {},
   "outputs": [
    {
     "data": {
      "text/plain": [
       "540"
      ]
     },
     "execution_count": 39,
     "metadata": {},
     "output_type": "execute_result"
    }
   ],
   "source": [
    "spamInfo.compress_size"
   ]
  },
  {
   "cell_type": "code",
   "execution_count": 43,
   "metadata": {},
   "outputs": [
    {
     "name": "stdout",
     "output_type": "stream",
     "text": [
      "Le fichier compressé est 2.51 fois plus petit.\n"
     ]
    }
   ],
   "source": [
    "print(f'Le fichier compressé est {round(spamInfo.file_size / spamInfo.compress_size, 2)} fois plus petit.')"
   ]
  },
  {
   "cell_type": "code",
   "execution_count": 44,
   "metadata": {},
   "outputs": [],
   "source": [
    "exampleZip.close()"
   ]
  },
  {
   "cell_type": "code",
   "execution_count": 45,
   "metadata": {},
   "outputs": [],
   "source": [
    "# Extracting all from ZIP Files - extractall() method for ZipFile\n",
    "import zipfile, os\n",
    "from pathlib import Path\n",
    "p = Path('E:\\\\Eric\\\\Programmation\\\\Python\\\\OUIC\\\\Automate_The_Boring_Stuff')\n",
    "exampleZip = zipfile.ZipFile(p / 'example.zip')\n",
    "exampleZip.extractall()\n",
    "exampleZip.close()"
   ]
  },
  {
   "cell_type": "code",
   "execution_count": 47,
   "metadata": {},
   "outputs": [
    {
     "data": {
      "text/plain": [
       "'E:\\\\Eric\\\\Programmation\\\\Python\\\\OUIC\\\\Automate_The_Boring_Stuff\\\\test.txt'"
      ]
     },
     "execution_count": 47,
     "metadata": {},
     "output_type": "execute_result"
    }
   ],
   "source": [
    "# Extracting 1 file from ZIP Files - extract() method for ZipFile\n",
    "p = Path('E:\\\\Eric\\\\Programmation\\\\Python\\\\OUIC\\\\Automate_The_Boring_Stuff')\n",
    "exampleZip = zipfile.ZipFile(p / 'example.zip')\n",
    "exampleZip.extract('test.txt')"
   ]
  },
  {
   "cell_type": "code",
   "execution_count": 50,
   "metadata": {},
   "outputs": [],
   "source": [
    "# Extracting 1 file from ZIP Files to a new folder that will be created - extract() method for ZipFile\n",
    "p = Path('E:\\\\Eric\\\\Programmation\\\\Python\\\\OUIC\\\\Automate_The_Boring_Stuff')\n",
    "exampleZip = zipfile.ZipFile(p / 'example.zip')\n",
    "exampleZip.extract('test.txt', 'E:\\\\Eric\\\\Programmation\\\\Python\\\\OUIC\\\\Automate_The_Boring_Stuff\\\\other_folder')\n",
    "exampleZip.close()"
   ]
  },
  {
   "cell_type": "code",
   "execution_count": 54,
   "metadata": {},
   "outputs": [],
   "source": [
    "# Creating and Adding to ZIP Files\n",
    "import zipfile\n",
    "newZip = zipfile.ZipFile('new.zip', 'w')\n",
    "newZip.write('test.txt', compress_type=zipfile.ZIP_DEFLATED)\n",
    "newZip.close()"
   ]
  },
  {
   "cell_type": "code",
   "execution_count": null,
   "metadata": {},
   "outputs": [],
   "source": []
  }
 ],
 "metadata": {
  "kernelspec": {
   "display_name": "Python 3",
   "language": "python",
   "name": "python3"
  },
  "language_info": {
   "codemirror_mode": {
    "name": "ipython",
    "version": 3
   },
   "file_extension": ".py",
   "mimetype": "text/x-python",
   "name": "python",
   "nbconvert_exporter": "python",
   "pygments_lexer": "ipython3",
   "version": "3.8.5"
  }
 },
 "nbformat": 4,
 "nbformat_minor": 4
}
